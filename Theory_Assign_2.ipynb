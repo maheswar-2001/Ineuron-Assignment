{
 "cells": [
  {
   "cell_type": "markdown",
   "id": "0224ce36-0ad6-4351-8263-58ef780ec744",
   "metadata": {},
   "source": [
    "# 1.What are the two values of the Boolean data type? How do you write them?\n",
    "\n",
    "The two values of Boolean data type are True and False.\n",
    "\n",
    "To write them we simply need to assign the values to the refernce variable.\n",
    "for eg: x = True\n",
    "y= False"
   ]
  },
  {
   "cell_type": "markdown",
   "id": "81a48bd5-2d9a-4472-85df-769c81cd103c",
   "metadata": {},
   "source": [
    "# 2. What are the three different types of Boolean operators?\n",
    "\n",
    "The three different types of Boolean operators are as follows:\n",
    "a. and\n",
    "b. or\n",
    "c. not\n",
    "\n"
   ]
  },
  {
   "cell_type": "markdown",
   "id": "18a22f90-aa65-4e01-a8ad-2cf9ebae4e23",
   "metadata": {},
   "source": [
    "# 3. Make a list of each Boolean operator's truth tables \n",
    "# (i.e. every possible combination of Boolean \n",
    "# values for the operator and what it evaluate ).\n",
    "\n",
    "and operator\n",
    "\n",
    "A   B   A and B\n",
    "T   T      T\n",
    "T   F      F\n",
    "F   T      F\n",
    "F   F      F\n",
    "\n",
    "or operator\n",
    "A   B   A or B\n",
    "T   T      T\n",
    "T   F      T\n",
    "F   T      T\n",
    "F   F      F\n",
    "\n",
    "not operator - This operator takes only single input.\n",
    "\n",
    "A   not A\n",
    "T     F\n",
    "F     T\n"
   ]
  },
  {
   "cell_type": "raw",
   "id": "0e324471-cba8-4845-b7eb-0a8c8803e3d4",
   "metadata": {},
   "source": [
    "# 4. What are the values of the following expressions?\n",
    "# a. (5 > 4) and (3 == 5) \n",
    "        F  and  F\n",
    "            F\n",
    "# b. not (5 > 4)\n",
    "     not F\n",
    "       T\n",
    "        \n",
    "# c. (5 > 4) or (3 == 5)\n",
    "       F  or F\n",
    "          F\n",
    "        \n",
    "# d. not ((5 > 4) or (3 == 5))\n",
    "    not(F or F)\n",
    "       T\n",
    "# e. (True and True) and (True == False)\n",
    "       T and F\n",
    "          F\n",
    "        \n",
    "# f. (not False) or (not True)\n",
    "         T or F\n",
    "           T"
   ]
  },
  {
   "cell_type": "markdown",
   "id": "7190e008-868e-46d7-a374-74beaa487714",
   "metadata": {},
   "source": [
    "# 5. What are the six comparison operators?\n",
    "The six comaparision operator are as follows:\n",
    ">\n",
    "<\n",
    ">=\n",
    "<=\n",
    "==\n",
    "!=\n"
   ]
  },
  {
   "cell_type": "markdown",
   "id": "54bfc53c-a882-43fe-82ea-fcde802c103a",
   "metadata": {},
   "source": [
    "'''\n",
    "6. How do you tell the difference between the equal to and assignment operators\n",
    "Describe a condition and when you would use one.\n",
    "'''\n",
    "\n",
    "a. Equal to is used when the content of two reference variable is to be \n",
    "comapred whereas assignment operator is used when we assign a value to the \n",
    "variable"
   ]
  },
  {
   "cell_type": "markdown",
   "id": "70b5451f-dc8a-4167-94d6-9e27059114cc",
   "metadata": {},
   "source": [
    "'''\n",
    "7. Identify the three blocks in this code:\n",
    "spam = 0\n",
    "if spam == 10:\n",
    "    print('eggs')\n",
    "if spam > 5:\n",
    "    print('bacon')\n",
    "else:\n",
    "    print('ham')\n",
    "    print('spam')\n",
    "    print('spam')\n",
    "'''\n",
    "\n",
    "Output of the above code will be:\n",
    "    ham\n",
    "    spam\n",
    "    spam\n",
    "Reason : The first if condition will return false then the second if condition \n",
    "will be checked it will also return false. So, the last else part will be \n",
    "executed"
   ]
  },
  {
   "cell_type": "markdown",
   "id": "b115b7d3-3307-4fb0-a30f-7bfbb721542c",
   "metadata": {},
   "source": [
    "'''\n",
    "8. Write code that prints Hello if 1 is stored in spam, \n",
    "prints Howdy if 2 is stored in spam, and prints Greetings!\n",
    "if anything else is stored in spam.\n",
    "\n",
    "'''\n",
    "\n",
    "spam = 0\n",
    "if spam == 1:\n",
    "    print(\"Hello\")\n",
    "elif spam == 2:\n",
    "    print(\"Howdy\")\n",
    "else:\n",
    "    print(\"Greetings!\")\n",
    "    "
   ]
  },
  {
   "cell_type": "markdown",
   "id": "a97d145a-b06e-4e6a-a51f-096c0fb04d68",
   "metadata": {},
   "source": [
    "9.If your programme is stuck in an endless loop, what keys you’ll press?\n",
    "\n",
    "IF the programme is stuck in an endless loop then we can press Interrupt \n",
    "the kernel button to stop the program.\n"
   ]
  },
  {
   "cell_type": "markdown",
   "id": "d761ff3c-72e9-4917-b6ee-1b0f3e65664f",
   "metadata": {},
   "source": [
    "10. How can you tell the difference between break and continue?\n",
    "\n",
    "a. When the cursor encounters the break statement it send the control to\n",
    "the statement just after the loop whereas when the cursor encounter the \n",
    "continue statement it transfer the control the condition part in while loop and in for loop it transfer's to the next iteration."
   ]
  },
  {
   "cell_type": "markdown",
   "id": "e16f9544-df3b-4a7f-a0ef-b3f4f8b069f2",
   "metadata": {},
   "source": [
    "'''\n",
    "11. In a for loop, \n",
    "what is the difference between range(10), range(0, 10), and range(0, 10, 1)?\n",
    "\n",
    "'''\n",
    "\n",
    "There is no difference between these three range(10) , range(0,10), range(0,10,1)\n",
    "as all these range function will return the value starting from 0 to 9 \n",
    "having 1 as step value.\n"
   ]
  },
  {
   "cell_type": "code",
   "execution_count": 4,
   "id": "0d9f9099-aa12-4946-b194-6a50822f9a26",
   "metadata": {},
   "outputs": [
    {
     "name": "stdout",
     "output_type": "stream",
     "text": [
      "1\n",
      "2\n",
      "3\n",
      "4\n",
      "5\n",
      "6\n",
      "7\n",
      "8\n",
      "9\n",
      "10\n",
      "1\n",
      "2\n",
      "3\n",
      "4\n",
      "5\n",
      "6\n",
      "7\n",
      "8\n",
      "9\n",
      "10\n"
     ]
    }
   ],
   "source": [
    "'''\n",
    "\n",
    "12. Write a short program that prints the numbers 1 to 10 using a for loop. \n",
    "Then write an equivalent program that prints the numbers 1 to 10 \n",
    "using a while loop.\n",
    "\n",
    "'''\n",
    "\n",
    "# Using for loop.\n",
    "for x in range(1,11):\n",
    "    print(x)\n",
    "\n",
    "# Using while loop.\n",
    "x = 1\n",
    "while x<=10:\n",
    "    print(x)\n",
    "    x = x+1"
   ]
  },
  {
   "cell_type": "code",
   "execution_count": 6,
   "id": "94c6e917-10d0-474d-9ed6-52607be56be1",
   "metadata": {
    "collapsed": true,
    "jupyter": {
     "outputs_hidden": true
    },
    "tags": []
   },
   "outputs": [
    {
     "data": {
      "text/plain": [
       "'\\n\\n13. If you had a function named bacon() inside a module named spam, \\nhow would you call it after importing spam?\\n\\n'"
      ]
     },
     "execution_count": 6,
     "metadata": {},
     "output_type": "execute_result"
    }
   ],
   "source": [
    "'''\n",
    "\n",
    "13. If you had a function named bacon() inside a module named spam, \n",
    "how would you call it after importing spam?\n",
    "\n",
    "'''\n",
    "\n",
    "For using the function bacon function inside the spam the syntax would be:\n",
    "    "
   ]
  },
  {
   "cell_type": "code",
   "execution_count": null,
   "id": "e72470ad-2756-4edc-b406-7587c7c441d6",
   "metadata": {},
   "outputs": [],
   "source": []
  }
 ],
 "metadata": {
  "kernelspec": {
   "display_name": "Python 3 (ipykernel)",
   "language": "python",
   "name": "python3"
  },
  "language_info": {
   "codemirror_mode": {
    "name": "ipython",
    "version": 3
   },
   "file_extension": ".py",
   "mimetype": "text/x-python",
   "name": "python",
   "nbconvert_exporter": "python",
   "pygments_lexer": "ipython3",
   "version": "3.10.6"
  }
 },
 "nbformat": 4,
 "nbformat_minor": 5
}
