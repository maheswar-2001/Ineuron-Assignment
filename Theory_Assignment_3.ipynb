{
 "cells": [
  {
   "cell_type": "raw",
   "id": "9814a64e-31b0-4a56-87e1-289c1fd6789b",
   "metadata": {},
   "source": [
    "1. Why are functions advantageous to have in your programs?"
   ]
  },
  {
   "cell_type": "raw",
   "id": "ed640fef-2984-4c80-93a2-ee58562531c4",
   "metadata": {},
   "source": [
    "Advantages of using function in program:\n",
    "a. It makes the program handling easier as only small part of the program is dealt.\n",
    "\n",
    "b. It reduces the size of the program\n",
    "\n",
    "c. It makes the program more readable and understandable thereby making program management easier."
   ]
  },
  {
   "cell_type": "raw",
   "id": "3efc5909-8773-4911-b252-c7d0d2b74a42",
   "metadata": {},
   "source": [
    "2. When does the code in a function run: when it's specified or when it's called?\n",
    "\n",
    "The code inside the function is executed when the function is called."
   ]
  },
  {
   "cell_type": "raw",
   "id": "d3e63e0a-3ea9-4d09-b98d-a7eaa67c94fe",
   "metadata": {},
   "source": [
    "3. What statement creates a function?\n",
    "\n",
    "The keyword def helps in creating a function in Python."
   ]
  },
  {
   "cell_type": "raw",
   "id": "2229c85a-e5c9-401d-bc62-fcf231103bd8",
   "metadata": {},
   "source": [
    "4. What is the difference between a function and a function call?\n",
    "\n",
    "A Function is sub-part of the program that acts on data and often returns a value whereas function call means calling or invoking a function by providing the name and values sent in parentheses.\n"
   ]
  },
  {
   "cell_type": "raw",
   "id": "1663f884-6867-4fc0-b3d1-1b741a3f40d7",
   "metadata": {},
   "source": [
    "5. How many global scopes are there in a Python program? How many local scopes?\n",
    "\n",
    "There’s only one global Python scope per program execution. This scope remains in existence until the program terminates.\n",
    "\n",
    "A variable created inside a function belongs to the local scope of that function, and can only be used inside that function."
   ]
  },
  {
   "cell_type": "raw",
   "id": "047bd19d-b901-4655-af5e-c2be2567360d",
   "metadata": {},
   "source": [
    "6. What happens to variables in a local scope when the function call returns?\n",
    "\n",
    "Each call of the function creates new local variables, and their lifetimes expire when the function returns to the caller."
   ]
  },
  {
   "cell_type": "raw",
   "id": "b6a24b0a-f652-4e8d-8f41-e8f5e8fce99d",
   "metadata": {},
   "source": [
    "7. What is the concept of a return value? Is it possible to have a return value in an expression?\n",
    "\n",
    "The return statement is used to return a value from called function to calling function. Yes it is possible to have a return starement in an expression.\n",
    "\n",
    "ex - return 2*(l+b)"
   ]
  },
  {
   "cell_type": "raw",
   "id": "fa3471a1-09ba-4281-bedf-dda5c2d40bdd",
   "metadata": {},
   "source": [
    "8. If a function does not have a return statement, what is the return value of a call to that function?\n",
    "\n",
    "If a function does not have a retun statement then that particular function does not return any value, its return type is void."
   ]
  },
  {
   "cell_type": "raw",
   "id": "03104742-4bda-4060-91f1-59e43f4a8484",
   "metadata": {},
   "source": [
    "9. How do you make a function variable refer to the global variable?\n",
    "\n",
    "When we create a variable inside any function its local varaible. To create a global variable inside a function, you can use the global keyword."
   ]
  },
  {
   "cell_type": "raw",
   "id": "d8914843-dfa7-4fca-80d1-d1a65980270e",
   "metadata": {},
   "source": [
    "10. What is the data type of None?\n",
    "\n",
    "None means not even zero(0) or blankspace. None is a data type of its own (NoneType) and only None can be None"
   ]
  },
  {
   "cell_type": "raw",
   "id": "952cd0df-6ede-4b80-a978-f3e8736563fc",
   "metadata": {},
   "source": [
    "11. What does the sentence import areallyourpetsnamederic do?\n",
    "\n",
    "That import statement imports a module named areallyourpetsnamederic."
   ]
  },
  {
   "cell_type": "raw",
   "id": "c6426f94-c66b-483b-9770-21a3368b84cf",
   "metadata": {},
   "source": [
    "12. If you had a bacon() feature in a spam module, what would you call it after importing spam?\n",
    "\n",
    "After importing it from spam module it would be called as spam.bacon()"
   ]
  },
  {
   "cell_type": "raw",
   "id": "a1128f76-3d12-44a7-a6dd-0c32be8b166f",
   "metadata": {},
   "source": [
    "13. What can you do to save a programme from crashing if it encounters an error?\n",
    "\n",
    "To save our program from error we can use the exception handling statement, by inserting those line in try and except block.\n"
   ]
  },
  {
   "cell_type": "raw",
   "id": "be626591-a8c4-4f90-8a71-132afc8dba92",
   "metadata": {},
   "source": [
    "14. What is the purpose of the try clause? What is the purpose of the except clause?\n",
    "\n",
    "The code which is to be monitored for any exception are written inside the try block.\n",
    "\n"
   ]
  }
 ],
 "metadata": {
  "kernelspec": {
   "display_name": "Python 3 (ipykernel)",
   "language": "python",
   "name": "python3"
  },
  "language_info": {
   "codemirror_mode": {
    "name": "ipython",
    "version": 3
   },
   "file_extension": ".py",
   "mimetype": "text/x-python",
   "name": "python",
   "nbconvert_exporter": "python",
   "pygments_lexer": "ipython3",
   "version": "3.10.6"
  }
 },
 "nbformat": 4,
 "nbformat_minor": 5
}
