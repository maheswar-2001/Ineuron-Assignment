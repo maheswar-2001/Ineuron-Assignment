{
 "cells": [
  {
   "cell_type": "code",
   "execution_count": 1,
   "id": "b4267767-cb06-4aa4-a930-286405bbab76",
   "metadata": {},
   "outputs": [
    {
     "name": "stdin",
     "output_type": "stream",
     "text": [
      "Enter kilometers:  5\n"
     ]
    },
    {
     "name": "stdout",
     "output_type": "stream",
     "text": [
      "Miles is:  3.106855\n"
     ]
    }
   ],
   "source": [
    "# Write a Python program to convert kilometers to miles?\n",
    "km = float(input(\"Enter kilometers: \"))\n",
    "miles = km * 0.621371\n",
    "print(\"Miles is: \",miles)"
   ]
  },
  {
   "cell_type": "code",
   "execution_count": 2,
   "id": "54a481e6-b1f9-46c9-b21c-a7b80e9f9b8e",
   "metadata": {},
   "outputs": [
    {
     "name": "stdin",
     "output_type": "stream",
     "text": [
      "Enter temperature in Celsius 100\n"
     ]
    },
    {
     "name": "stdout",
     "output_type": "stream",
     "text": [
      "Temperature in Fahrenheit is:  212.0\n"
     ]
    }
   ],
   "source": [
    "# Write a Python program to convert Celsius to Fahrenheit?\n",
    "cel = float(input(\"Enter temperature in Celsius\"))\n",
    "fah = (cel * 9/5) + 32\n",
    "print(\"Temperature in Fahrenheit is: \",fah) "
   ]
  },
  {
   "cell_type": "code",
   "execution_count": 4,
   "id": "4b0ba26c-bcd4-4c28-96ae-bf7b7e39286c",
   "metadata": {},
   "outputs": [
    {
     "name": "stdin",
     "output_type": "stream",
     "text": [
      "Enter year:  2023\n",
      "Enter month:  8\n"
     ]
    },
    {
     "name": "stdout",
     "output_type": "stream",
     "text": [
      "    August 2023\n",
      "Mo Tu We Th Fr Sa Su\n",
      "    1  2  3  4  5  6\n",
      " 7  8  9 10 11 12 13\n",
      "14 15 16 17 18 19 20\n",
      "21 22 23 24 25 26 27\n",
      "28 29 30 31\n",
      "\n"
     ]
    }
   ],
   "source": [
    "# Write a Python program to display calendar?\n",
    "import calendar  \n",
    "# Enter the month and year  \n",
    "yy = int(input(\"Enter year: \"))  \n",
    "mm = int(input(\"Enter month: \"))  \n",
    "  \n",
    "# display the calendar  \n",
    "print(calendar.month(yy,mm)) "
   ]
  },
  {
   "cell_type": "code",
   "execution_count": null,
   "id": "c2d021ca-2d1f-46cd-9d74-6aa15729de5d",
   "metadata": {},
   "outputs": [],
   "source": [
    "# Write a Python program to solve quadratic equation?\n",
    "import math\n",
    "\n",
    "a = int(input(\"Enter first co-efficeint\"))\n",
    "b = int(input(\"Enter second co-efficeint\"))\n",
    "c = int(input(\"Enter third co-efficeint\"))\n",
    "# Calculating Discriminant\n",
    "dis = (b*b-4*a*c)\n",
    "if dis > 0:\n",
    "    r1 = b + math.sqrt(dis /2 * a)\n",
    "    r2 = b - math.sqrt(dis /2 * a)\n",
    "else:\n",
    "    print(\"Roots are imaginary\")\n",
    "    \n",
    "    \n",
    "    "
   ]
  },
  {
   "cell_type": "code",
   "execution_count": null,
   "id": "8309a5a8-561e-4e87-86a9-bd3a2c7fbd72",
   "metadata": {},
   "outputs": [],
   "source": [
    "# Write a Python program to swap two variables without temp variable?\n",
    "a = int(input(\"Enter value of a number\"))\n",
    "b = int(input(\"Enter value of b number\"))\n",
    "a = a+b\n",
    "b = a-b\n",
    "a = a-b"
   ]
  },
  {
   "cell_type": "code",
   "execution_count": null,
   "id": "b6d32388-377d-4211-882b-660ce835a502",
   "metadata": {},
   "outputs": [],
   "source": []
  }
 ],
 "metadata": {
  "kernelspec": {
   "display_name": "Python 3 (ipykernel)",
   "language": "python",
   "name": "python3"
  },
  "language_info": {
   "codemirror_mode": {
    "name": "ipython",
    "version": 3
   },
   "file_extension": ".py",
   "mimetype": "text/x-python",
   "name": "python",
   "nbconvert_exporter": "python",
   "pygments_lexer": "ipython3",
   "version": "3.10.6"
  }
 },
 "nbformat": 4,
 "nbformat_minor": 5
}
