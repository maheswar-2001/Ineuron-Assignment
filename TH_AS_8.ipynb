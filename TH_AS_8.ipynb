{
 "cells": [
  {
   "cell_type": "markdown",
   "id": "df1d3e88-ed6d-4d64-9d3f-989fdbfee411",
   "metadata": {},
   "source": [
    "__1. Is the Python Standard Library included with PyInputPlus?__\n",
    "\n",
    "Ans: PyInputPlus is a third-party module and doesn’t come with the Python Standard Library."
   ]
  },
  {
   "cell_type": "markdown",
   "id": "0409c82a-4b4f-43a9-aca3-e68e699ced0f",
   "metadata": {},
   "source": [
    "__2. Why is PyInputPlus commonly imported with import pyinputplus as pypi?__\n",
    "\n",
    "Ans: The pypi is an allias which is used to call the module instead of writting pyinputplus we can write pypi."
   ]
  },
  {
   "cell_type": "markdown",
   "id": "d47634ed-bd7e-4fcd-b1ff-823405be899e",
   "metadata": {},
   "source": [
    "__3. How do you distinguish between inputInt() and inputFloat()?__\n",
    "\n",
    "Ans: The inputInt() returns an int value whereas the inputFloat returns a float value."
   ]
  },
  {
   "cell_type": "markdown",
   "id": "7f811d16-84f8-4afb-8a96-1ab63f8f1a20",
   "metadata": {},
   "source": [
    "__4. Using PyInputPlus, how do you ensure that the user enters a whole number between 0 and 99?__\n",
    "\n",
    "Ans: The inputInt(), inputFloat(), inputNum() have max,min,greaterThan, lessThan as Keyword arguments.Using those arguments we limit the values entered.\n",
    "\n",
    "x = pypi.inputInt(\"Enter a number: \",min=0,max=99)"
   ]
  },
  {
   "cell_type": "markdown",
   "id": "879a5f0e-0873-4752-90b1-f507ed14a963",
   "metadata": {},
   "source": [
    "__5. What is transferred to the keyword arguments allowRegexes and blockRegexes?__\n",
    "\n",
    "Ans: A list of regex strings that are either explicitly allowed or denied"
   ]
  },
  {
   "cell_type": "markdown",
   "id": "37c930e5-6527-44c9-b807-401eacf12562",
   "metadata": {},
   "source": [
    "__6. If a blank input is entered three times, what does inputStr(limit=3) do?__\n",
    "\n",
    "Ans: This function will return RetryLimitException"
   ]
  },
  {
   "cell_type": "markdown",
   "id": "77e166ed-d60e-4426-b5b3-93cbd9a1655f",
   "metadata": {},
   "source": [
    "__7. If blank input is entered three times, what does inputStr(limit=3, default='hello') do?__\n",
    "\n",
    "Ans: The inputStr() returns hello three times."
   ]
  }
 ],
 "metadata": {
  "kernelspec": {
   "display_name": "Python 3 (ipykernel)",
   "language": "python",
   "name": "python3"
  },
  "language_info": {
   "codemirror_mode": {
    "name": "ipython",
    "version": 3
   },
   "file_extension": ".py",
   "mimetype": "text/x-python",
   "name": "python",
   "nbconvert_exporter": "python",
   "pygments_lexer": "ipython3",
   "version": "3.10.6"
  }
 },
 "nbformat": 4,
 "nbformat_minor": 5
}
