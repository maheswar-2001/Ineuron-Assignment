{
 "cells": [
  {
   "cell_type": "raw",
   "id": "3da44032-3d0c-4ebe-b96a-7f24a5d7bfc7",
   "metadata": {},
   "source": [
    "1. Is the Python Standard Library included with PyInputPlus?\n",
    "\n",
    "PyInputPlus is a third-party module and doesn’t come with the Python Standard Library."
   ]
  },
  {
   "cell_type": "raw",
   "id": "823c54f8-eb00-4b8c-b117-ba4b7d061321",
   "metadata": {},
   "source": [
    "2. Why is PyInputPlus commonly imported with import pyinputplus as pypi?\n",
    "\n",
    "The pypi is an allias which is used to call the module instead of writting pyinputplus we can write pypi."
   ]
  },
  {
   "cell_type": "raw",
   "id": "0e3d2b61-c2a2-4d3f-a891-510b904a81e2",
   "metadata": {},
   "source": [
    "3. How do you distinguish between inputInt() and inputFloat()?\n",
    "\n",
    "The inputInt() returns an int value whereas the inputFloat returns a float value."
   ]
  },
  {
   "cell_type": "raw",
   "id": "446febba-c4ee-4db2-a464-b87739f98943",
   "metadata": {},
   "source": [
    "4. Using PyInputPlus, how do you ensure that the user enters a whole number between 0 and 99?\n",
    "\n",
    "The inputInt(), inputFloat(), inputNum() have max,min,greaterThan, lessThan as Keyword arguments.Using those arguments we limit the values entered.\n",
    "\n",
    "x = pypi.inputInt(\"Enter a number: \",min=0,max=99)"
   ]
  },
  {
   "cell_type": "raw",
   "id": "0737ad84-2400-4a7c-977f-7b88d5864e6b",
   "metadata": {},
   "source": [
    "5. What is transferred to the keyword arguments allowRegexes and blockRegexes?\n",
    "\n",
    "A list of regex strings that are either explicitly allowed or denied"
   ]
  },
  {
   "cell_type": "raw",
   "id": "27535d8d-1059-4093-b001-fb35cae4586c",
   "metadata": {},
   "source": [
    "6. If a blank input is entered three times, what does inputStr(limit=3) do?\n",
    "\n",
    "This function will return RetryLimitException\n"
   ]
  },
  {
   "cell_type": "raw",
   "id": "35f81f4a-1138-4db3-97ad-cab2c6e71c82",
   "metadata": {},
   "source": [
    "7. If blank input is entered three times, what does inputStr(limit=3, default='hello') do?\n",
    "\n",
    "The inputStr() returns hello three times.\n",
    "\n"
   ]
  },
  {
   "cell_type": "code",
   "execution_count": null,
   "id": "1cc03bf0-d157-41b8-a574-32d96496952e",
   "metadata": {},
   "outputs": [],
   "source": []
  }
 ],
 "metadata": {
  "kernelspec": {
   "display_name": "Python 3 (ipykernel)",
   "language": "python",
   "name": "python3"
  },
  "language_info": {
   "codemirror_mode": {
    "name": "ipython",
    "version": 3
   },
   "file_extension": ".py",
   "mimetype": "text/x-python",
   "name": "python",
   "nbconvert_exporter": "python",
   "pygments_lexer": "ipython3",
   "version": "3.10.6"
  }
 },
 "nbformat": 4,
 "nbformat_minor": 5
}
