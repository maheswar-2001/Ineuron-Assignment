{
 "cells": [
  {
   "cell_type": "markdown",
   "id": "967d1841-9462-40e3-a8cb-cd8ebd253acf",
   "metadata": {},
   "source": [
    "__1. Create an assert statement that throws an AssertionError if the variable spam is a negative integer.__"
   ]
  },
  {
   "cell_type": "code",
   "execution_count": 5,
   "id": "ed44b762-6871-401a-bb00-1c70cd8cc89e",
   "metadata": {},
   "outputs": [
    {
     "name": "stdin",
     "output_type": "stream",
     "text": [
      "Enter a number:  -95\n"
     ]
    },
    {
     "ename": "AssertionError",
     "evalue": "Value is negative",
     "output_type": "error",
     "traceback": [
      "\u001b[0;31m---------------------------------------------------------------------------\u001b[0m",
      "\u001b[0;31mAssertionError\u001b[0m                            Traceback (most recent call last)",
      "Cell \u001b[0;32mIn [5], line 2\u001b[0m\n\u001b[1;32m      1\u001b[0m spam \u001b[38;5;241m=\u001b[39m \u001b[38;5;28mint\u001b[39m(\u001b[38;5;28minput\u001b[39m(\u001b[38;5;124m\"\u001b[39m\u001b[38;5;124mEnter a number: \u001b[39m\u001b[38;5;124m\"\u001b[39m))\n\u001b[0;32m----> 2\u001b[0m \u001b[38;5;28;01massert\u001b[39;00m spam\u001b[38;5;241m>\u001b[39m\u001b[38;5;241m0\u001b[39m, \u001b[38;5;124m\"\u001b[39m\u001b[38;5;124mValue is negative\u001b[39m\u001b[38;5;124m\"\u001b[39m\n",
      "\u001b[0;31mAssertionError\u001b[0m: Value is negative"
     ]
    }
   ],
   "source": [
    "spam = int(input(\"Enter a number: \"))\n",
    "assert spam>0, \"Value is negative\""
   ]
  },
  {
   "cell_type": "markdown",
   "id": "31fe60d1-51e8-4038-93be-b0c793b40073",
   "metadata": {},
   "source": [
    "__2. Write an assert statement that triggers an AssertionError if the variables eggs and bacon contain strings that are the same as each other, even if their cases are different (that is, 'hello' and 'hello' are considered the same, and goodbye&#39; and 'GOODbye' are also considered the same).__"
   ]
  },
  {
   "cell_type": "code",
   "execution_count": 13,
   "id": "649b423f-f90f-4704-9142-2b02cbc51540",
   "metadata": {},
   "outputs": [
    {
     "name": "stdin",
     "output_type": "stream",
     "text": [
      "Enter a string:  Python\n",
      "Enter a string:  pyTHON\n"
     ]
    },
    {
     "ename": "AssertionError",
     "evalue": "Both the Strings are same",
     "output_type": "error",
     "traceback": [
      "\u001b[0;31m---------------------------------------------------------------------------\u001b[0m",
      "\u001b[0;31mAssertionError\u001b[0m                            Traceback (most recent call last)",
      "Cell \u001b[0;32mIn [13], line 8\u001b[0m\n\u001b[1;32m      5\u001b[0m bacon \u001b[38;5;241m=\u001b[39m bacon\u001b[38;5;241m.\u001b[39mlower()\n\u001b[1;32m      6\u001b[0m \u001b[38;5;66;03m#print(eggs,bacon)\u001b[39;00m\n\u001b[0;32m----> 8\u001b[0m \u001b[38;5;28;01massert\u001b[39;00m eggs\u001b[38;5;241m!=\u001b[39mbacon, \u001b[38;5;124m\"\u001b[39m\u001b[38;5;124mBoth the Strings are same\u001b[39m\u001b[38;5;124m\"\u001b[39m\n\u001b[1;32m      9\u001b[0m \u001b[38;5;28mprint\u001b[39m(\u001b[38;5;124m\"\u001b[39m\u001b[38;5;124mStrings are not same\u001b[39m\u001b[38;5;124m\"\u001b[39m)\n",
      "\u001b[0;31mAssertionError\u001b[0m: Both the Strings are same"
     ]
    }
   ],
   "source": [
    "eggs = input(\"Enter a string: \")\n",
    "bacon = input(\"Enter a string: \")\n",
    "\n",
    "eggs = eggs.lower()\n",
    "bacon = bacon.lower()\n",
    "#print(eggs,bacon)\n",
    "\n",
    "assert eggs!=bacon, \"Both the Strings are same\"\n",
    "print(\"Strings are not same\")"
   ]
  },
  {
   "cell_type": "markdown",
   "id": "ee8c0248-7214-43aa-98a5-345a9c192379",
   "metadata": {},
   "source": [
    "__3. Create an assert statement that throws an AssertionError every time.__"
   ]
  },
  {
   "cell_type": "code",
   "execution_count": 14,
   "id": "ca26688f-b55b-43ac-bcac-e1562ff6c53e",
   "metadata": {},
   "outputs": [
    {
     "ename": "AssertionError",
     "evalue": "Invalid Operation",
     "output_type": "error",
     "traceback": [
      "\u001b[0;31m---------------------------------------------------------------------------\u001b[0m",
      "\u001b[0;31mAssertionError\u001b[0m                            Traceback (most recent call last)",
      "Cell \u001b[0;32mIn [14], line 4\u001b[0m\n\u001b[1;32m      2\u001b[0m x \u001b[38;5;241m=\u001b[39m \u001b[38;5;241m1\u001b[39m\n\u001b[1;32m      3\u001b[0m y \u001b[38;5;241m=\u001b[39m \u001b[38;5;241m0\u001b[39m\n\u001b[0;32m----> 4\u001b[0m \u001b[38;5;28;01massert\u001b[39;00m y \u001b[38;5;241m!=\u001b[39m \u001b[38;5;241m0\u001b[39m, \u001b[38;5;124m\"\u001b[39m\u001b[38;5;124mInvalid Operation\u001b[39m\u001b[38;5;124m\"\u001b[39m \u001b[38;5;66;03m# denominator can't be 0\u001b[39;00m\n\u001b[1;32m      5\u001b[0m \u001b[38;5;28mprint\u001b[39m(x \u001b[38;5;241m/\u001b[39m y)\n",
      "\u001b[0;31mAssertionError\u001b[0m: Invalid Operation"
     ]
    }
   ],
   "source": [
    "# AssertionError with error_message.\n",
    "x = 1\n",
    "y = 0\n",
    "assert y != 0, \"Invalid Operation\" # denominator can't be 0\n",
    "print(x / y)\n"
   ]
  },
  {
   "cell_type": "markdown",
   "id": "607919d3-2acb-4c3e-a474-b7c6c6f2007a",
   "metadata": {},
   "source": [
    "__4. What are the two lines that must be present in your software in order to call logging.debug()?__"
   ]
  },
  {
   "cell_type": "markdown",
   "id": "6f5a57c7-a484-4b04-9c21-3e38c2e08db8",
   "metadata": {},
   "source": [
    "The two lines which must be present in the program in order to call logging.debug() are\n",
    "\n",
    "import logging\n",
    "\n",
    "logging.basicConfig()\n",
    "\n",
    "After these two lines we can call the logging.debug()\n"
   ]
  },
  {
   "cell_type": "markdown",
   "id": "371f8287-9c14-4241-8784-58b1e691666a",
   "metadata": {},
   "source": [
    "__5. What are the two lines that your program must have in order to have logging.debug() send a logging message to a file named programLog.txt?__"
   ]
  },
  {
   "cell_type": "markdown",
   "id": "b0b329df-c2e2-4937-aad2-940070878328",
   "metadata": {},
   "source": [
    "The two lines are:\n",
    "\n",
    "a. import logging\n",
    "\n",
    "b. logging.basicConfig(filename=\"programLog.txt\", level=logging.DEBUG)\n",
    "\n",
    "c. logging.debug(\"This a debug message\")"
   ]
  },
  {
   "cell_type": "markdown",
   "id": "a5695816-fdd0-425c-a388-f944ff4daed3",
   "metadata": {},
   "source": [
    "__6. What are the five levels of logging?__"
   ]
  },
  {
   "cell_type": "markdown",
   "id": "90d483b7-22ad-4dd7-a39a-164ce0ada1fe",
   "metadata": {},
   "source": [
    "The five level of logging are:\n",
    "\n",
    "a. CRITICAL \n",
    "b. ERROR\n",
    "c. WARNING\n",
    "d. INFO\n",
    "e. DEBUG\n"
   ]
  },
  {
   "cell_type": "markdown",
   "id": "32279a24-5d37-4138-95c4-6dc524469989",
   "metadata": {},
   "source": [
    "__7. What line of code would you add to your software to disable all logging messages?__"
   ]
  },
  {
   "cell_type": "code",
   "execution_count": null,
   "id": "af590b5f-9017-4383-826e-12ee89aa20f7",
   "metadata": {},
   "outputs": [],
   "source": [
    "logging.disable = True"
   ]
  },
  {
   "cell_type": "markdown",
   "id": "4f72d9c3-b2fd-4423-95e2-2a5f0400cecd",
   "metadata": {},
   "source": [
    "__8. Why is using logging messages better than using print() to display the same message?__"
   ]
  },
  {
   "cell_type": "markdown",
   "id": "9fd6c808-73e4-457c-a21f-93d323286273",
   "metadata": {},
   "source": [
    "Logging the message helps to store the info, debug, warning in a file whereas this feature is not supported by print statement.\n",
    "\n"
   ]
  },
  {
   "cell_type": "code",
   "execution_count": null,
   "id": "59944d92-c47b-4e02-a365-5e60202374e1",
   "metadata": {},
   "outputs": [],
   "source": []
  }
 ],
 "metadata": {
  "kernelspec": {
   "display_name": "Python 3 (ipykernel)",
   "language": "python",
   "name": "python3"
  },
  "language_info": {
   "codemirror_mode": {
    "name": "ipython",
    "version": 3
   },
   "file_extension": ".py",
   "mimetype": "text/x-python",
   "name": "python",
   "nbconvert_exporter": "python",
   "pygments_lexer": "ipython3",
   "version": "3.10.6"
  }
 },
 "nbformat": 4,
 "nbformat_minor": 5
}
