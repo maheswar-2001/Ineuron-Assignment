{
 "cells": [
  {
   "cell_type": "markdown",
   "id": "ef043c3d-ecf5-42d5-a345-a22e8eed8495",
   "metadata": {},
   "source": [
    "1. What exactly is []?\n",
    "\n",
    "Ans: It is a square bracket. It is generally  used to store the elements of a list data type in python.\n"
   ]
  },
  {
   "cell_type": "markdown",
   "id": "3bf9026e-a058-4b4b-9d3a-0a7da08c77f4",
   "metadata": {},
   "source": [
    "2. In a list of values stored in a variable called spam, how would you assign the value \"hello\" as the third value? (Assume [2, 4, 6, 8, 10] are in spam.)\n",
    "\n",
    "Ans: To store the value \"hello\" as the third value in spam we would write:\n",
    "\n",
    "spam[2] = \"hello\""
   ]
  },
  {
   "cell_type": "markdown",
   "id": "ac72baa4-1562-463a-a1ea-c66e1cdee304",
   "metadata": {},
   "source": [
    "3. Let's pretend the spam includes the list ['a','b','c','d'] for the next three queries.\n",
    "\n",
    "What is the value of spam[int(int('3' * 2) / 11)]?\n",
    "\n",
    "spam[int(int('333')/11)]\n",
    "spam[int(333/111)]\n",
    "spam[3]\n",
    "\n",
    "Ans is d"
   ]
  },
  {
   "cell_type": "markdown",
   "id": "917ee688-1179-408d-88f7-592822374dbd",
   "metadata": {},
   "source": [
    "4. What is the value of spam[-1]?\n",
    "\n",
    "Ans: spam[-1] = d"
   ]
  },
  {
   "cell_type": "markdown",
   "id": "b0df56b7-79d9-453c-8193-b2ea356622d4",
   "metadata": {},
   "source": [
    "5. What is the value of spam[:2]?\n",
    "\n",
    "Ans: ['a',b']"
   ]
  },
  {
   "cell_type": "markdown",
   "id": "f72262c8-f608-4414-8412-e6a2e92f4b39",
   "metadata": {},
   "source": [
    "Let's pretend bacon has the list [3.14, 'cat,' 11, 'cat,' True] for the next three questions.\n",
    "\n",
    "6. What is the value of bacon.index('cat')?\n",
    "Ans: 1\n",
    "\n",
    "7. How does bacon.append(99) change the look of the list value in bacon?\n",
    "\n",
    "Ans The changes would look like:\n",
    "\n",
    "[3.14,'cat',11,'cat',True,99]\n",
    "\n",
    "8. How does bacon.remove('cat') change the look of the list in bacon?\n",
    "\n",
    "Ans: The changes would look like:\n",
    "\n",
    "[3.14, 11, 'cat', True, 99]"
   ]
  },
  {
   "cell_type": "markdown",
   "id": "3c3ab3c0-75f3-4665-993d-fdf938228350",
   "metadata": {},
   "source": [
    "9. What are the list concatenation and list replication operators?\n",
    "\n",
    "Ans: The list concatenation operator is '+' \n",
    "\n",
    "     The list replication operators is '*'"
   ]
  },
  {
   "cell_type": "markdown",
   "id": "6150a635-1dce-4319-84a1-6fe4933e7c41",
   "metadata": {},
   "source": [
    "10. What is difference between the list methods append() and insert()?\n",
    "\n",
    "Ans: The append method is adds the element into the list at last position or at the end whereas insert() is helps to add the element to a specfic index position.\n",
    "\n",
    "ii) append() takes only one parameter whereas insert() takes two parameter"
   ]
  },
  {
   "cell_type": "markdown",
   "id": "85156955-78ef-47d7-80a1-fe0fd2693677",
   "metadata": {},
   "source": [
    "11.What are the two methods for removing items from a list?\n",
    "\n",
    "Ans: pop() and remove() are two methods used for removing items from a list."
   ]
  },
  {
   "cell_type": "markdown",
   "id": "afcfbc1a-0d46-43a8-9c18-e2d3fbe293fe",
   "metadata": {},
   "source": [
    "12. Describe how list values and string values are identical.\n",
    "\n",
    "Ans: The list values and string values both are accessed by index position.\n",
    "\n",
    "We can apply concatenation and replication operation on both string as well as list.\n",
    "\n"
   ]
  },
  {
   "cell_type": "markdown",
   "id": "f191d004-3300-4a00-ab66-3ce327b2d4a7",
   "metadata": {},
   "source": [
    "13. What's the difference between tuples and lists?\n",
    "\n",
    "Ans: Lists are mutable sequence whereas tuples are immutable sequences.\n",
    "\n",
    "New elements can be added in a list at any position whereas we can add elements in a tuple at the end only.\n",
    "\n",
    "List consume more memory whereas Tuple consume less memory ad compared to list"
   ]
  },
  {
   "cell_type": "markdown",
   "id": "0e77042c-8bb7-4220-a3db-1a0a10cd179b",
   "metadata": {},
   "source": [
    "14. How do you type a tuple value that only contains the integer 42?\n",
    "\n",
    "Ans The tuple contaning only 42 as a value is typed as: \n",
    "\n",
    "(42,)"
   ]
  },
  {
   "cell_type": "markdown",
   "id": "2a69fc6e-5efa-4533-bf57-fcd0f6020717",
   "metadata": {},
   "source": [
    "15. How do you get a list value's tuple form? How do you get a tuple value's list form?\n",
    "\n",
    "Ans : To get a list value in tuple form we will use tuple constructor.\n",
    "\n",
    "To perfom the reverse function i.e to convert the tuple value to list is use list constructor."
   ]
  },
  {
   "cell_type": "markdown",
   "id": "3369fb1e-47f5-4abd-ae55-479eca7d3f26",
   "metadata": {},
   "source": [
    "16. Variables that \"contain\" list values are not necessarily lists themselves. Instead, what do they contain?\n",
    "\n",
    "Ans: Variables will contain references to list values rather than list values themselves. But for strings and integer values, variables simply contain the string or integer value. \n"
   ]
  },
  {
   "cell_type": "markdown",
   "id": "cac30295-77cf-4da5-980d-713c1f09714f",
   "metadata": {},
   "source": [
    "17. How do you distinguish between copy.copy() and copy.deepcopy()?\n",
    "\n",
    "Ans: The difference between shallow and deep copying is only relevant for compound objects (objects that contain other objects, like lists or class instances):\n",
    "\n",
    "A shallow copy constructs a new compound object and then (to the extent possible) inserts references into it to the objects found in the original.\n",
    "\n",
    "A deep copy constructs a new compound object and then, recursively, inserts copies into it of the objects found in the original"
   ]
  },
  {
   "cell_type": "code",
   "execution_count": null,
   "id": "5f2f2587-a220-48b3-af4b-0269ada6fcb8",
   "metadata": {},
   "outputs": [],
   "source": []
  }
 ],
 "metadata": {
  "kernelspec": {
   "display_name": "Python 3 (ipykernel)",
   "language": "python",
   "name": "python3"
  },
  "language_info": {
   "codemirror_mode": {
    "name": "ipython",
    "version": 3
   },
   "file_extension": ".py",
   "mimetype": "text/x-python",
   "name": "python",
   "nbconvert_exporter": "python",
   "pygments_lexer": "ipython3",
   "version": "3.10.6"
  }
 },
 "nbformat": 4,
 "nbformat_minor": 5
}
