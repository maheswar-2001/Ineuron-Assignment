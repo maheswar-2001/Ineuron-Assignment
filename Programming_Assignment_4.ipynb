{
 "cells": [
  {
   "cell_type": "code",
   "execution_count": 3,
   "id": "6c4e267d-46dc-4df0-89b6-eb0bf9ae4518",
   "metadata": {},
   "outputs": [
    {
     "name": "stdin",
     "output_type": "stream",
     "text": [
      "Enter a number 5\n"
     ]
    },
    {
     "name": "stdout",
     "output_type": "stream",
     "text": [
      "Factorial is:  0\n"
     ]
    }
   ],
   "source": [
    "# Write a Python Program to Find the Factorial of a Number?\n",
    "num = int(input(\"Enter a number\"))\n",
    "fact = 1\n",
    "for i in range(1, num+1):\n",
    "    fact = fact * i\n",
    "print(\"Factorial is: \",fact)"
   ]
  },
  {
   "cell_type": "code",
   "execution_count": 4,
   "id": "86189932-bf25-44de-96ac-01d22df4d5b4",
   "metadata": {},
   "outputs": [
    {
     "name": "stdin",
     "output_type": "stream",
     "text": [
      "Enter a number : 8\n"
     ]
    },
    {
     "name": "stdout",
     "output_type": "stream",
     "text": [
      "8 X 1 = 8\n",
      "8 X 2 = 16\n",
      "8 X 3 = 24\n",
      "8 X 4 = 32\n",
      "8 X 5 = 40\n",
      "8 X 6 = 48\n",
      "8 X 7 = 56\n",
      "8 X 8 = 64\n",
      "8 X 9 = 72\n",
      "8 X 10 = 80\n"
     ]
    }
   ],
   "source": [
    "# Write a Python Program to Display the multiplication Table?\n",
    "num = int(input(\"Enter a number :\"))\n",
    "for i in range(1, 11):\n",
    "    print(num, \"X\" , i ,\"=\" , num *i)"
   ]
  },
  {
   "cell_type": "code",
   "execution_count": 6,
   "id": "9da73385-f165-4797-90a7-019b890148c9",
   "metadata": {},
   "outputs": [
    {
     "name": "stdin",
     "output_type": "stream",
     "text": [
      "Enter total number of terms:  10\n"
     ]
    },
    {
     "name": "stdout",
     "output_type": "stream",
     "text": [
      "0,1,1,1,2,3,5,8,13,21,34,"
     ]
    }
   ],
   "source": [
    "# Write a Python Program to Print the Fibonacci sequence?\n",
    "num = int(input(\"Enter total number of terms: \"))\n",
    "a = 0;b=1;c=1\n",
    "print(a, end=\",\")\n",
    "print(b, end=\",\")\n",
    "for i in range(2 , num+1):\n",
    "    print(c, end=\",\")\n",
    "    c = a+b\n",
    "    a = b\n",
    "    b = c\n",
    "\n"
   ]
  },
  {
   "cell_type": "code",
   "execution_count": 12,
   "id": "ac5c7e81-1ff1-4267-8806-5638d06f853a",
   "metadata": {},
   "outputs": [
    {
     "name": "stdin",
     "output_type": "stream",
     "text": [
      "Enter a number 153\n"
     ]
    },
    {
     "name": "stdout",
     "output_type": "stream",
     "text": [
      "Armstrong Number\n"
     ]
    }
   ],
   "source": [
    "# Write a Python Program to Check Armstrong Number?\n",
    "num = int(input(\"Enter a number\"))\n",
    "temp = num ; suma = 0\n",
    "# Armstrong Checking\n",
    "while temp > 0:\n",
    "    d = temp % 10\n",
    "    suma = suma + (d*d*d)\n",
    "    temp //= 10\n",
    "\n",
    "if num == suma:\n",
    "    print(\"Armstrong Number\")\n",
    "else:\n",
    "    print(\"Not a Arstrong Number\")\n",
    "\n"
   ]
  },
  {
   "cell_type": "code",
   "execution_count": 14,
   "id": "a255e4cb-eeed-4087-84cd-e8748d054a40",
   "metadata": {},
   "outputs": [
    {
     "name": "stdout",
     "output_type": "stream",
     "text": [
      "[0, 1, 153, 370, 371, 407]\n"
     ]
    }
   ],
   "source": [
    "# Write a Python Program to Find Armstrong Number in an Interval?\n",
    "\n",
    "lst = []\n",
    "def isArmstrong(num):\n",
    "    temp = num ; suma = 0\n",
    "    # Armstrong Checking\n",
    "    while temp > 0:\n",
    "        d = temp % 10\n",
    "        suma = suma + (d*d*d)\n",
    "        temp //= 10\n",
    "\n",
    "    if num == suma:\n",
    "        return True\n",
    "    else:\n",
    "        return False\n",
    "\n",
    "for i in range(0, 10000):\n",
    "    if isArmstrong(i):\n",
    "        lst.append(i)\n",
    "print(lst)\n",
    "    "
   ]
  },
  {
   "cell_type": "code",
   "execution_count": null,
   "id": "05679f59-f414-4e1c-bb23-0db0046b0510",
   "metadata": {},
   "outputs": [],
   "source": [
    "# Write a Python Program to Find the Sum of Natural Numbers?\n",
    "num = int(input(\"Enter a number\"))\n",
    "sum = 0\n",
    "for i in range(0,num):\n",
    "    sum + = i\n",
    "print(\"Sum of Natural numbers upto n is: \"sum)"
   ]
  }
 ],
 "metadata": {
  "kernelspec": {
   "display_name": "Python 3 (ipykernel)",
   "language": "python",
   "name": "python3"
  },
  "language_info": {
   "codemirror_mode": {
    "name": "ipython",
    "version": 3
   },
   "file_extension": ".py",
   "mimetype": "text/x-python",
   "name": "python",
   "nbconvert_exporter": "python",
   "pygments_lexer": "ipython3",
   "version": "3.10.6"
  }
 },
 "nbformat": 4,
 "nbformat_minor": 5
}
