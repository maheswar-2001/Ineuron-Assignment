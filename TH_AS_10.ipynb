{
 "cells": [
  {
   "cell_type": "markdown",
   "id": "40092eeb-5846-4382-994a-20bafc52f154",
   "metadata": {},
   "source": [
    "__1.How do you distinguish between shutil.copy() and shutil.copytree()?__\n",
    "\n",
    "Ans: The shutil.copy(source,destination) - This function helps in copying the file from source path to the destination path.\n",
    "\n",
    "The shutil.copytree() -> The shutil.copytree() copies the entire folder,files and subfolder are copied from path source to the destination folder.The\n",
    "function returns a string of the path of the copied folder."
   ]
  },
  {
   "cell_type": "markdown",
   "id": "c2b9c29f-1c21-475a-985b-8328bdc2beec",
   "metadata": {},
   "source": [
    "__2.What function is used to rename files?__\n",
    "\n",
    "Ans: The shutil.move() is used to rename the file. It takes two arguments source and destination"
   ]
  },
  {
   "cell_type": "markdown",
   "id": "0ccd0703-b55f-4172-ae3d-fcc0f6d3fac7",
   "metadata": {},
   "source": [
    "__3.What is the difference between the delete functions in the send2trash and shutil modules?__\n",
    "\n",
    "Ans: The delete function deletes the files permanently where as the send2trash function of shutil module send the files to the recycle bin."
   ]
  },
  {
   "cell_type": "markdown",
   "id": "e363d8bb-d74e-4404-990c-02bc3dcdaaae",
   "metadata": {},
   "source": [
    "__4. ZipFile objects have a close() method just like File objects’ close() method. What ZipFile method is equivalent to File objects’ open() method?__\n",
    "\n",
    "Ans: The zipfile.ZipFile() function is equivalent to the open() function; the first argument is the filename, and the second argument is the mode to open the ZIP file in (read, write, or append"
   ]
  },
  {
   "cell_type": "markdown",
   "id": "5b6734cc-1209-4f8a-825d-418fb8eabd06",
   "metadata": {},
   "source": [
    "__5. Create a programme that searches a folder tree for files with a certain file extension (such as .pdf or .jpg). Copy these files from whatever location they are in to a new folder.__\n",
    "\n",
    "import shutil\n",
    "\n",
    "shutil.move('C:\\\\MainFolder\\demo.pdf', 'D:\\\\New_Folder\\sample.pdf)"
   ]
  }
 ],
 "metadata": {
  "kernelspec": {
   "display_name": "Python 3 (ipykernel)",
   "language": "python",
   "name": "python3"
  },
  "language_info": {
   "codemirror_mode": {
    "name": "ipython",
    "version": 3
   },
   "file_extension": ".py",
   "mimetype": "text/x-python",
   "name": "python",
   "nbconvert_exporter": "python",
   "pygments_lexer": "ipython3",
   "version": "3.10.6"
  }
 },
 "nbformat": 4,
 "nbformat_minor": 5
}
