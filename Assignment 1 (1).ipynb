{
 "cells": [
  {
   "cell_type": "markdown",
   "id": "d992a45a",
   "metadata": {},
   "source": [
    "# Assignemnt 1"
   ]
  },
  {
   "cell_type": "markdown",
   "id": "a337526d",
   "metadata": {},
   "source": [
    "1. In the below elements which of them are values or an expression? eg:- values can be integer or string and expressions \n",
    "    will be mathematical operators.\n",
    "a.   *\n",
    "b. 'hello'\n",
    "c.  -87.8\n",
    "d.  - \n",
    "e.    / \n",
    "f.    +\t\n",
    "g.  6 \n",
    "\n",
    "\n",
    "---> a,d,f are expression \n",
    "----> b,c,g are values"
   ]
  },
  {
   "cell_type": "markdown",
   "id": "db210ed1",
   "metadata": {},
   "source": [
    "2. What is the difference between string and variable?\n",
    "a. Any character's which are enclosed within single or double quotetation marks are knowns as string whereas variable is the name of memory location where data is stored its values may change during the execution of the program."
   ]
  },
  {
   "cell_type": "markdown",
   "id": "46493578",
   "metadata": {},
   "source": [
    "3. Describe three different data types.\n",
    "The three data types are as follows:\n",
    "a. integers - Integers are the whole numbers without fractional part. They can be represented by either + or - sign. Eg. 12, 45, 600, -15,-90\n",
    "\n",
    "b. Floating Point Number : A number having fractional part is known as floating point number. The decimal point signal that it is a floating point number.\n",
    "Floating Point numbers can be written in two ways:\n",
    "1. Fractional Form : 3500.75, 3456.34 \n",
    "2. Exponent Form: 670075E03, 0.5E-04\n",
    "\n",
    "c. strings - A string datatype lets you to hold any number of valid characters into a set of quotation marks.\n",
    "Eg: \"abcd\", \"1234\", \"???///\"\n"
   ]
  },
  {
   "cell_type": "markdown",
   "id": "b8dc7568",
   "metadata": {},
   "source": [
    "4. What is an expression made up of? What do all expressions do?\n",
    "An expression is made up of valid combination operator, operands, values and variable arranged as per the rules of the programming language. or in other words it a combination of symbols that represent a value.\n",
    "\n",
    "When an expression is evaluated it may or may not return a value."
   ]
  },
  {
   "cell_type": "markdown",
   "id": "c135b9ed",
   "metadata": {},
   "source": [
    "5. This assignment statements, like spam = 10. What is the difference between an expression and a statement?\n",
    "a. A statement is an instruction that does some thing i.e some action takes place whereas an expression is  a combination of    symbols that represent a value.\n",
    "b. An expression is evaluated whereas an statement is executed "
   ]
  },
  {
   "cell_type": "markdown",
   "id": "09ed831b",
   "metadata": {},
   "source": [
    " 6. After running the following code, what does the variable bacon contain? \n",
    "bacon = 22\n",
    "bacon + 1\n",
    "\n",
    "After execution the above code the value in the variable bacon will not change. But in the runtime time its value will be \n",
    "updated for temporary purpose."
   ]
  },
  {
   "cell_type": "markdown",
   "id": "05edf907",
   "metadata": {},
   "source": [
    "7. What should the values of the following two terms be?\n",
    "1. 'spam' + 'spamspam'\n",
    "2. 'spam' * 3\n",
    "\n",
    "Result of the 1st code will be \n",
    "'spamspamspam'\n",
    "Result of the 2nd code will be \n",
    "'spamspamspam'"
   ]
  },
  {
   "cell_type": "markdown",
   "id": "99588806",
   "metadata": {},
   "source": [
    "8. Why is eggs a valid variable name while 100 is invalid?\n",
    "\n",
    "Accoring to the naming convention of the varaible. Variable name should not begin with a digit. So, 100 is a invalid varaible name."
   ]
  },
  {
   "cell_type": "markdown",
   "id": "2dd54653",
   "metadata": {},
   "source": [
    "9. What three functions can be used to get the integer, floating-point number, or string version of a value?\n",
    "\n",
    "a. To get integer version of a value we can use int()\n",
    "b. To get floating-point version of a value we can use float()\n",
    "c. To get string version of a value we can use str()"
   ]
  },
  {
   "cell_type": "markdown",
   "id": "a9cd0cf0",
   "metadata": {},
   "source": [
    "10. Why does this expression cause an error? How can you fix it?\n",
    "'I have eaten ' + 99 + ' burritos.'\n",
    "\n",
    "The above expression causes an error as we cannot concatenate a string with integer. \n",
    "\n",
    "To fix-this we have the convert the integer value 99 into string format then it will be successfully excecuted"
   ]
  }
 ],
 "metadata": {
  "kernelspec": {
   "display_name": "Python 3 (ipykernel)",
   "language": "python",
   "name": "python3"
  },
  "language_info": {
   "codemirror_mode": {
    "name": "ipython",
    "version": 3
   },
   "file_extension": ".py",
   "mimetype": "text/x-python",
   "name": "python",
   "nbconvert_exporter": "python",
   "pygments_lexer": "ipython3",
   "version": "3.9.12"
  }
 },
 "nbformat": 4,
 "nbformat_minor": 5
}
