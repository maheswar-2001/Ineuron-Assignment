{
 "cells": [
  {
   "cell_type": "markdown",
   "id": "340c760b-2083-4d36-9796-081b0eeb7b93",
   "metadata": {},
   "source": [
    "__1. What advantages do Excel spreadsheets have over CSV spreadsheets?__\n",
    "\n",
    "a. Working in Excel is easier as it provides formulas for formatting and analyzing\n",
    "\n",
    "b. CSV files are plain-text files, Does not contain formatting, formulas, macros, etc. It is also known as flat files"
   ]
  },
  {
   "cell_type": "markdown",
   "id": "0dbbdd07-ee1a-423d-a66f-4a89aec751b4",
   "metadata": {},
   "source": [
    "__2. What do you pass to csv.reader() and csv.writer() to create reader and writer objects?__"
   ]
  },
  {
   "cell_type": "code",
   "execution_count": 1,
   "id": "d245d848-6a55-456c-a5c8-52098a44cdc6",
   "metadata": {
    "collapsed": true,
    "jupyter": {
     "outputs_hidden": true
    },
    "tags": []
   },
   "outputs": [
    {
     "ename": "FileNotFoundError",
     "evalue": "[Errno 2] No such file or directory: 'text.csv'",
     "output_type": "error",
     "traceback": [
      "\u001b[0;31m---------------------------------------------------------------------------\u001b[0m",
      "\u001b[0;31mFileNotFoundError\u001b[0m                         Traceback (most recent call last)",
      "Cell \u001b[0;32mIn [1], line 2\u001b[0m\n\u001b[1;32m      1\u001b[0m \u001b[38;5;28;01mimport\u001b[39;00m \u001b[38;5;21;01mcsv\u001b[39;00m\n\u001b[0;32m----> 2\u001b[0m \u001b[38;5;28;01mwith\u001b[39;00m \u001b[38;5;28;43mopen\u001b[39;49m\u001b[43m(\u001b[49m\u001b[38;5;124;43m'\u001b[39;49m\u001b[38;5;124;43mtext.csv\u001b[39;49m\u001b[38;5;124;43m'\u001b[39;49m\u001b[43m,\u001b[49m\u001b[38;5;124;43m'\u001b[39;49m\u001b[38;5;124;43mr\u001b[39;49m\u001b[38;5;124;43m'\u001b[39;49m\u001b[43m)\u001b[49m \u001b[38;5;28;01mas\u001b[39;00m file:\n\u001b[1;32m      3\u001b[0m     csv_file \u001b[38;5;241m=\u001b[39m csv\u001b[38;5;241m.\u001b[39mreader(file,delimiter\u001b[38;5;241m=\u001b[39m\u001b[38;5;124m'\u001b[39m\u001b[38;5;124m,\u001b[39m\u001b[38;5;124m'\u001b[39m)\n\u001b[1;32m      4\u001b[0m     \u001b[38;5;28;01mfor\u001b[39;00m ele \u001b[38;5;129;01min\u001b[39;00m csv_file:\n",
      "\u001b[0;31mFileNotFoundError\u001b[0m: [Errno 2] No such file or directory: 'text.csv'"
     ]
    }
   ],
   "source": [
    "import csv\n",
    "with open('text.csv','r') as file:\n",
    "    csv_file = csv.reader(file,delimiter=',')\n",
    "    for ele in csv_file:\n",
    "        print(ele)"
   ]
  },
  {
   "cell_type": "markdown",
   "id": "d593320b-d9b5-47eb-ba35-6072f87901a1",
   "metadata": {},
   "source": [
    "__3. What modes do File objects for reader and writer objects need to be opened in?__\n",
    "\n",
    "For csv.reader(iterable_file_object), the file objects needed to be opened in read mode `whereas` for csv.writer(iterable_file_object) the file objects needed to be opened in write mode "
   ]
  },
  {
   "cell_type": "markdown",
   "id": "2ae0f662-d54d-497d-adbb-7331318d098b",
   "metadata": {},
   "source": [
    "__4. What method takes a list argument and writes it to a CSV file?__\n",
    "\n",
    "Ans: The csv class provides two methods for writing to a CSV file. The methods as writerow and writerows. The writerow() writes a single row at a time whereas writerows() writes multiple row at a time."
   ]
  },
  {
   "cell_type": "markdown",
   "id": "ff634bd2-5418-42f6-8064-d38d43518dc2",
   "metadata": {},
   "source": [
    "__5. What do the keyword arguments delimiter and line terminator do?__\n",
    "\n",
    "Ans: Lets take the example of a csv file:\n",
    "First Name, Last Name, Age\n",
    "Mano, Vishnu, 24\n",
    "Vishnu, Vardhan, 21\n",
    "\n",
    "Here ',' is Delimiter. We can use any Character as per our needs if required. Similarly Line Terminator comes at end of line by default it is newline and can be changed accourding to Requirement.\n",
    "\n"
   ]
  },
  {
   "cell_type": "markdown",
   "id": "2d8792e9-de55-4605-a830-cdc37e2e1aa1",
   "metadata": {},
   "source": [
    "__6. What function takes a string of JSON data and returns a Python data structure?__\n",
    "\n",
    "loads() method takes a string of JSON data and returns a Python data structure"
   ]
  },
  {
   "cell_type": "code",
   "execution_count": 4,
   "id": "4e470607-4f62-476d-8880-dd60eb61335c",
   "metadata": {},
   "outputs": [
    {
     "name": "stdout",
     "output_type": "stream",
     "text": [
      "{\n",
      "    \"Name\": \"Maheswar Parmar\",\n",
      "    \"Qualification\": \"Bachelor of Technology\",\n",
      "    \"Stream\": \"Computer Science and Engineering\"\n",
      "}\n",
      "Type of my_details_json is <class 'str'>\n",
      "{'Name': 'Maheswar Parmar', 'Qualification': 'Bachelor of Technology', 'Stream': 'Computer Science and Engineering'}\n",
      "Type of my_details is <class 'dict'>\n"
     ]
    }
   ],
   "source": [
    "# Example of json.loads() method\n",
    "import json\n",
    "my_details_json ='''{\n",
    "    \"Name\": \"Maheswar Parmar\",\n",
    "    \"Qualification\": \"Bachelor of Technology\",\n",
    "    \"Stream\": \"Computer Science and Engineering\"\n",
    "}'''\n",
    "print(my_details_json)\n",
    "print(f'Type of my_details_json is {type(my_details_json)}')\n",
    "my_details = json.loads(my_details_json)\n",
    "print(my_details)\n",
    "print(f'Type of my_details is {type(my_details)}')"
   ]
  },
  {
   "cell_type": "markdown",
   "id": "2ba52461-39a0-48c3-9567-20f4083a8108",
   "metadata": {},
   "source": [
    "__7. What function takes a Python data structure and returns a string of JSON data?__\n",
    "dumps() method takes a python data structure and returns a string of JSON data"
   ]
  },
  {
   "cell_type": "code",
   "execution_count": 3,
   "id": "e346ba78-d654-4553-917e-727d3502959e",
   "metadata": {},
   "outputs": [
    {
     "name": "stdout",
     "output_type": "stream",
     "text": [
      "{'Name': 'Ram Parmar', 'Stream': 'Computer Science and Engineering', 'Qualification': 'Bachelor of Technology'}\n",
      "Type of my_details is <class 'dict'>\n",
      "{\n",
      "    \"Name\": \"Ram Parmar\",\n",
      "    \"Qualification\": \"Bachelor of Technology\",\n",
      "    \"Stream\": \"Computer Science and Engineering\"\n",
      "}\n",
      "Type of my_details_json is <class 'str'>\n"
     ]
    }
   ],
   "source": [
    "# Example of json.dumps() method\n",
    "import json\n",
    "my_details = {\n",
    "    'Name':'Ram Parmar',\n",
    "    'Stream':'Computer Science and Engineering',\n",
    "    'Qualification':'Bachelor of Technology'\n",
    "}\n",
    "print(my_details)\n",
    "print(f'Type of my_details is {type(my_details)}')\n",
    "my_details_json = json.dumps(my_details, indent=4, sort_keys=True)\n",
    "print(my_details_json)\n",
    "print(f'Type of my_details_json is {type(my_details_json)}')"
   ]
  }
 ],
 "metadata": {
  "kernelspec": {
   "display_name": "Python 3 (ipykernel)",
   "language": "python",
   "name": "python3"
  },
  "language_info": {
   "codemirror_mode": {
    "name": "ipython",
    "version": 3
   },
   "file_extension": ".py",
   "mimetype": "text/x-python",
   "name": "python",
   "nbconvert_exporter": "python",
   "pygments_lexer": "ipython3",
   "version": "3.10.6"
  }
 },
 "nbformat": 4,
 "nbformat_minor": 5
}
