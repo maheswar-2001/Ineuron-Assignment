{
 "cells": [
  {
   "cell_type": "code",
   "execution_count": 2,
   "id": "5201f21b-479e-4cda-9b55-35af972df284",
   "metadata": {},
   "outputs": [
    {
     "name": "stdout",
     "output_type": "stream",
     "text": [
      "Hello,Maheswar,Parmar,belong,Bootcamp,Batch,"
     ]
    }
   ],
   "source": [
    "#1.Write a Python program to find words which are greater than given length k?\n",
    "\n",
    "def greater_words(st,k):\n",
    "    \n",
    "    lst = st.split()\n",
    "    for x in lst:\n",
    "        if len(x) > k:\n",
    "            print(x,end=\",\")\n",
    "\n",
    "greater_words(\"Hello my name is Maheswar Parmar , I belong to FSDS Bootcamp Batch\",4)\n",
    "        "
   ]
  },
  {
   "cell_type": "code",
   "execution_count": 2,
   "id": "82b2306c-32be-4b7a-a92d-31d266e01377",
   "metadata": {},
   "outputs": [
    {
     "name": "stdout",
     "output_type": "stream",
     "text": [
      "i-th character of the string is C\n"
     ]
    }
   ],
   "source": [
    "#2.Write a Python program for removing i-th character from a string?\n",
    "\n",
    "def remove_character(str,i):\n",
    "    char = str[i]\n",
    "    return char\n",
    "\n",
    "x = remove_character(\"I live in Cuttack Odisha\",10)\n",
    "print(f\"i-th character of the string is {x}\")\n"
   ]
  },
  {
   "cell_type": "code",
   "execution_count": 4,
   "id": "960ab8df-0fc5-4824-bc37-656f67262661",
   "metadata": {},
   "outputs": [
    {
     "name": "stdout",
     "output_type": "stream",
     "text": [
      "['I', 'live', 'in', 'Cuttack', 'Odisha']\n",
      "H#e#l#l#o# #E#v#e#r#y#o#n#e\n"
     ]
    }
   ],
   "source": [
    "#3. Write a Python program to split and join a string?\n",
    "\n",
    "def split_string(st):\n",
    "    ls = st.split()\n",
    "    print(ls)\n",
    "\n",
    "def join_string(tup):\n",
    "    x = \"#\".join(tup)\n",
    "    print(x)\n",
    "\n",
    "split_string(\"I live in Cuttack Odisha\")\n",
    "join_string(\"Hello Everyone\")\n"
   ]
  },
  {
   "cell_type": "code",
   "execution_count": 16,
   "id": "d2f98538-9ff5-49fc-8093-9f17a0f1f7c6",
   "metadata": {},
   "outputs": [
    {
     "name": "stdout",
     "output_type": "stream",
     "text": [
      "1\n",
      "No\n"
     ]
    }
   ],
   "source": [
    "#4. Write a Python to check if a given string is binary string or not?\n",
    "\n",
    "def check_binary(st):\n",
    "    count = 0\n",
    "    t = '01'\n",
    "    for i in st:\n",
    "        if i not in t:\n",
    "            count = 1\n",
    "            break\n",
    "        else:\n",
    "            pass\n",
    "    return count\n",
    "\n",
    "x = check_binary(\"10810100\")\n",
    "print(x)\n",
    "if x == 0:\n",
    "    print(\"Yes\")\n",
    "else:\n",
    "    print(\"No\")"
   ]
  },
  {
   "cell_type": "code",
   "execution_count": 19,
   "id": "8c69e89b-6117-41d8-b9ef-8ddc377e91aa",
   "metadata": {},
   "outputs": [
    {
     "name": "stdout",
     "output_type": "stream",
     "text": [
      "Uncommon Words are: \n",
      "India Canada\n"
     ]
    }
   ],
   "source": [
    "#5. Write a Python program to find uncommon words from two Strings?\n",
    "\n",
    "def string_uncommon(st,str):\n",
    "    ls = st.split()\n",
    "    lst = str.split()\n",
    "    count = 0\n",
    "    print(\"Uncommon Words are: \")\n",
    "    for i in range(0,len(ls)):\n",
    "        if ls[i] not in lst[i]:\n",
    "            print(ls[i],lst[i])\n",
    "\n",
    "string_uncommon(\"I Live in India\",\"I Live in Canada\")\n"
   ]
  },
  {
   "cell_type": "code",
   "execution_count": 21,
   "id": "014bf192-77f4-4770-8dbd-ad51c33522a1",
   "metadata": {},
   "outputs": [
    {
     "name": "stdout",
     "output_type": "stream",
     "text": [
      "['e']\n"
     ]
    }
   ],
   "source": [
    "#6. Write a Python to find all duplicate characters in string?\n",
    "\n",
    "def find_duplicates(s):\n",
    "    elements = {}\n",
    "    for char in s:\n",
    "        if elements.get(char,None) != None:\n",
    "            elements[char]+=1\n",
    "        else:\n",
    "            elements[char] = 1\n",
    "    return [k for k,v in elements.items() if v>1]\n",
    "\n",
    "x =  find_duplicates(\"elephant\")\n",
    "print(x)"
   ]
  },
  {
   "cell_type": "code",
   "execution_count": null,
   "id": "855aee6d-6c0f-4375-9250-7763710bddfe",
   "metadata": {},
   "outputs": [],
   "source": [
    "#7.Write a Python Program to check if a string contains any special character?\n",
    "\n",
    "def is_special(st):\n",
    "    count=0\n",
    "    st = st.lower()\n",
    "    for i in st:\n",
    "        if (i >= 'a' and i <= 'z') or (i >= '0' and i<='9'):\n",
    "            pass\n",
    "        else:\n",
    "            count = 1\n",
    "    return count\n",
    "\n",
    "if is_special(\"Myself@Parmar\"):\n",
    "    print(\"String Contains\n"
   ]
  }
 ],
 "metadata": {
  "kernelspec": {
   "display_name": "Python 3 (ipykernel)",
   "language": "python",
   "name": "python3"
  },
  "language_info": {
   "codemirror_mode": {
    "name": "ipython",
    "version": 3
   },
   "file_extension": ".py",
   "mimetype": "text/x-python",
   "name": "python",
   "nbconvert_exporter": "python",
   "pygments_lexer": "ipython3",
   "version": "3.10.6"
  }
 },
 "nbformat": 4,
 "nbformat_minor": 5
}
