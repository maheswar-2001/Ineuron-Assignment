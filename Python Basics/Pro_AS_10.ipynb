{
 "cells": [
  {
   "cell_type": "code",
   "execution_count": 2,
   "id": "742abf1d-176a-4f4a-92cb-35404a6a0f94",
   "metadata": {},
   "outputs": [
    {
     "name": "stdin",
     "output_type": "stream",
     "text": [
      "Enter elements in a list:  [12,15,17,20]\n"
     ]
    },
    {
     "name": "stdout",
     "output_type": "stream",
     "text": [
      "Sum of elements of List are:  64\n"
     ]
    }
   ],
   "source": [
    "#1. Write a Python program to find sum of elements in list?\n",
    "\n",
    "lst = eval(input(\"Enter elements in a list: \"))\n",
    "sum = 0\n",
    "for x in lst:\n",
    "    sum += x\n",
    "\n",
    "print(\"Sum of elements of List are: \",sum)"
   ]
  },
  {
   "cell_type": "code",
   "execution_count": 3,
   "id": "da2d373b-88ea-4960-a8ab-a47a0d4c9893",
   "metadata": {},
   "outputs": [
    {
     "name": "stdin",
     "output_type": "stream",
     "text": [
      "Enter elements in a list:  [5,10,20,30]\n"
     ]
    },
    {
     "name": "stdout",
     "output_type": "stream",
     "text": [
      "Product of elements of List are:  30000\n"
     ]
    }
   ],
   "source": [
    "#2. Write a Python program to Multiply all numbers in the list?\n",
    "\n",
    "lst = eval(input(\"Enter elements in a list: \"))\n",
    "product = 1\n",
    "for x in lst:\n",
    "    product *= x\n",
    "\n",
    "print(\"Product of elements of List are: \",product)"
   ]
  },
  {
   "cell_type": "code",
   "execution_count": 4,
   "id": "861dc413-bb64-4bdf-bd6e-a3cd3e3b486b",
   "metadata": {},
   "outputs": [
    {
     "name": "stdin",
     "output_type": "stream",
     "text": [
      "Enter elements in a list:  [55,12,7,12,45,96,4,74,56]\n"
     ]
    },
    {
     "name": "stdout",
     "output_type": "stream",
     "text": [
      "Smallest number in the list is:  4\n"
     ]
    }
   ],
   "source": [
    "# 3. Write a Python program to find smallest number in a list?\n",
    "\n",
    "lst = eval(input(\"Enter elements in a list: \"))\n",
    "min = lst[0]\n",
    "for x in lst:\n",
    "    if x < min:\n",
    "        min = x\n",
    "\n",
    "print(\"Smallest number in the list is: \",min)\n",
    "\n"
   ]
  },
  {
   "cell_type": "code",
   "execution_count": 6,
   "id": "79f3ac0d-af65-4123-9c1b-4fd97f95fa69",
   "metadata": {
    "collapsed": true,
    "jupyter": {
     "outputs_hidden": true
    },
    "tags": []
   },
   "outputs": [
    {
     "name": "stdin",
     "output_type": "stream",
     "text": [
      "Enter elements in the list:  [15,12,14,45]\n"
     ]
    },
    {
     "ename": "TypeError",
     "evalue": "'int' object is not callable",
     "output_type": "error",
     "traceback": [
      "\u001b[0;31m---------------------------------------------------------------------------\u001b[0m",
      "\u001b[0;31mTypeError\u001b[0m                                 Traceback (most recent call last)",
      "Cell \u001b[0;32mIn [6], line 5\u001b[0m\n\u001b[1;32m      1\u001b[0m \u001b[38;5;66;03m#2nd Method\u001b[39;00m\n\u001b[1;32m      3\u001b[0m l1 \u001b[38;5;241m=\u001b[39m \u001b[38;5;28meval\u001b[39m(\u001b[38;5;28minput\u001b[39m(\u001b[38;5;124m\"\u001b[39m\u001b[38;5;124mEnter elements in the list: \u001b[39m\u001b[38;5;124m\"\u001b[39m))\n\u001b[0;32m----> 5\u001b[0m \u001b[38;5;28mprint\u001b[39m(\u001b[38;5;124m\"\u001b[39m\u001b[38;5;124mSmalles value in the list is: \u001b[39m\u001b[38;5;124m\"\u001b[39m,\u001b[38;5;28;43mmin\u001b[39;49m\u001b[43m(\u001b[49m\u001b[43ml1\u001b[49m\u001b[43m)\u001b[49m)\n",
      "\u001b[0;31mTypeError\u001b[0m: 'int' object is not callable"
     ]
    }
   ],
   "source": [
    "#2nd Method\n",
    "\n",
    "l1 = eval(input(\"Enter elements in the list: \"))\n",
    "\n",
    "print(\"Smalles value in the list is: \",min(l1))\n",
    "    "
   ]
  },
  {
   "cell_type": "code",
   "execution_count": 9,
   "id": "9db132cd-a1fa-4e4b-8753-fec473a007a4",
   "metadata": {},
   "outputs": [
    {
     "name": "stdin",
     "output_type": "stream",
     "text": [
      "Enter elements in a list:  [55,72,12,89,63]\n"
     ]
    },
    {
     "name": "stdout",
     "output_type": "stream",
     "text": [
      "Largest number in the list is:  89\n"
     ]
    }
   ],
   "source": [
    "# 4. Write a Python program to find largest number in a list?\n",
    "\n",
    "lst = eval(input(\"Enter elements in a list: \"))\n",
    "max = lst[0]\n",
    "for x in lst:\n",
    "    if x > max:\n",
    "        max = x\n",
    "\n",
    "print(\"Largest number in the list is: \",max)\n"
   ]
  },
  {
   "cell_type": "code",
   "execution_count": 1,
   "id": "e6a04ed9-239d-43f0-b790-0e693d3c0282",
   "metadata": {},
   "outputs": [
    {
     "name": "stdin",
     "output_type": "stream",
     "text": [
      "Enter elements in the list:  [10, 20, 20, 4, 45, 45, 45, 99, 99]\n"
     ]
    },
    {
     "name": "stdout",
     "output_type": "stream",
     "text": [
      "[99, 4, 10, 45, 20]\n",
      "Second largest element is: 45\n"
     ]
    }
   ],
   "source": [
    "# 5. Write a Python program to find second largest number in a list?\n",
    "# Python program to find largest number\n",
    "# in a list\n",
    "\n",
    "# List of numbers\n",
    "list1 = eval(input(\"Enter elements in the list: \"))\n",
    "\n",
    "# Removing duplicates from the list\n",
    "list2 = list(set(list1))\n",
    "\n",
    "print(list2)\n",
    "# Sorting the list\n",
    "list2.sort()\n",
    "\n",
    "# Printing the second last element\n",
    "print(\"Second largest element is:\", list2[-2])\n"
   ]
  },
  {
   "cell_type": "code",
   "execution_count": 3,
   "id": "9fce8d73-9977-403d-be01-e505eb14c9a4",
   "metadata": {},
   "outputs": [
    {
     "name": "stdin",
     "output_type": "stream",
     "text": [
      "Enter elements in the list:  [2, 6, 41, 85, 0, 3, 7, 6, 10]\n"
     ]
    },
    {
     "name": "stdout",
     "output_type": "stream",
     "text": [
      "[85, 41, 10]\n"
     ]
    }
   ],
   "source": [
    "#6. Write a Python program to find N largest elements from a list?\n",
    "\n",
    "def max(ls,n):\n",
    "    nl=[]\n",
    "    \n",
    "    for x in range(n):\n",
    "        \n",
    "        max = 0\n",
    "        for y in ls:\n",
    "            if y>max:\n",
    "                max = y\n",
    "        nl.append(max)\n",
    "        ls.remove(max)\n",
    "        \n",
    "    print(nl)\n",
    "lst = eval(input(\"Enter elements in the list: \"))\n",
    "max(lst,3)\n",
    "\n"
   ]
  },
  {
   "cell_type": "code",
   "execution_count": 5,
   "id": "49f7b6e1-b889-48c1-b03d-afa7e4580d2a",
   "metadata": {},
   "outputs": [
    {
     "name": "stdin",
     "output_type": "stream",
     "text": [
      "Enter elements in the list: [2, 6, 41, 85, 0, 3, 7, 6, 10]\n"
     ]
    },
    {
     "name": "stdout",
     "output_type": "stream",
     "text": [
      "[10, 41, 85]\n"
     ]
    }
   ],
   "source": [
    "#2nd Method\n",
    "\n",
    "def find_max(ls,n):\n",
    "    \n",
    "    ls.sort()\n",
    "    nl = ls[-n:]\n",
    "    print(nl)\n",
    "\n",
    "lst = eval(input(\"Enter elements in the list:\"))\n",
    "find_max(lst,3)"
   ]
  },
  {
   "cell_type": "code",
   "execution_count": 7,
   "id": "d8eb915c-cd32-4739-982b-0cee57b4050a",
   "metadata": {},
   "outputs": [
    {
     "name": "stdin",
     "output_type": "stream",
     "text": [
      "Enter elements in the list:  [2, 6, 41, 85, 0, 3, 7, 6, 10]\n"
     ]
    },
    {
     "name": "stdout",
     "output_type": "stream",
     "text": [
      "2\n",
      "6\n",
      "0\n",
      "6\n",
      "10\n"
     ]
    }
   ],
   "source": [
    "#7. Write a Python program to print even numbers in a list?\n",
    "\n",
    "def print_even(ls):\n",
    "    for i in ls:\n",
    "        if i % 2 == 0:\n",
    "            print(i)\n",
    "    \n",
    "print_even(eval(input(\"Enter elements in the list: \")))"
   ]
  },
  {
   "cell_type": "code",
   "execution_count": 8,
   "id": "57b235b2-1ab0-492a-afe4-75d9acdbfa98",
   "metadata": {},
   "outputs": [
    {
     "name": "stdin",
     "output_type": "stream",
     "text": [
      "Enter elements in the list:  [2, 6, 41, 85, 0, 3, 7, 6, 10]\n"
     ]
    },
    {
     "name": "stdout",
     "output_type": "stream",
     "text": [
      "41\n",
      "85\n",
      "3\n",
      "7\n"
     ]
    }
   ],
   "source": [
    "#8. Write a Python program to print odd numbers in a list?\n",
    "\n",
    "def print_even(ls):\n",
    "    for i in ls:\n",
    "        if i % 2 != 0:\n",
    "            print(i)\n",
    "    \n",
    "print_even(eval(input(\"Enter elements in the list: \")))"
   ]
  },
  {
   "cell_type": "code",
   "execution_count": 10,
   "id": "58f0aca0-32ab-4c3c-b7c6-a7ae36c5f2c8",
   "metadata": {},
   "outputs": [
    {
     "name": "stdout",
     "output_type": "stream",
     "text": [
      "The original list is : [5, 6, [], 3, [], [], 9]\n",
      "List after empty list removal : [5, 6, 3, 9]\n"
     ]
    }
   ],
   "source": [
    "#9. Write a Python program to Remove empty List from List?\n",
    "\n",
    "\n",
    "\n",
    "def empty_list_remove(lst):\n",
    "\tnew_list = []\n",
    "\tfor ele in lst:\n",
    "\t\tif ele:\n",
    "\t\t\tnew_list.append(ele)\n",
    "\treturn new_list\n",
    "\n",
    "\n",
    "# input list values\n",
    "input_list = [5, 6, [], 3, [], [], 9]\n",
    "\n",
    "# print initial list values\n",
    "print(f\"The original list is : {input_list}\")\n",
    "# function-call & print values\n",
    "print(f\"List after empty list removal : {empty_list_remove(input_list)}\")\n"
   ]
  },
  {
   "cell_type": "code",
   "execution_count": 14,
   "id": "c58d37d8-4f14-4a79-a3ed-5b5b2be75890",
   "metadata": {},
   "outputs": [
    {
     "name": "stdin",
     "output_type": "stream",
     "text": [
      "Enter values in the list:  [2, 6, 41, 85, 0, 3, 7, 6, 10]\n"
     ]
    },
    {
     "name": "stdout",
     "output_type": "stream",
     "text": [
      "New List after cloning is: [2, 6, 41, 85, 0, 3, 7, 6, 10]\n"
     ]
    }
   ],
   "source": [
    "#10.Write a Python program to Cloning or Copying a list?\n",
    "\n",
    "x = eval(input(\"Enter values in the list: \"))\n",
    "\n",
    "y = list(x)\n",
    "\n",
    "print(f\"New List after cloning is: {y}\")\n"
   ]
  },
  {
   "cell_type": "code",
   "execution_count": 17,
   "id": "dbab344d-8e95-4085-a3c6-babeebe6d128",
   "metadata": {},
   "outputs": [
    {
     "name": "stdin",
     "output_type": "stream",
     "text": [
      "Enter the element:  6\n",
      "Enter elements in the list:  [2, 6, 41, 85, 0, 3, 7, 6, 10]\n"
     ]
    },
    {
     "name": "stdout",
     "output_type": "stream",
     "text": [
      "The element is present: 2\n"
     ]
    }
   ],
   "source": [
    "#11. Write a Python program to Count occurrences of an element in a list?\n",
    "\n",
    "def count(ls,num):\n",
    "    ctr = 0\n",
    "    for i in ls:\n",
    "        if i == num:\n",
    "            ctr += 1\n",
    "    \n",
    "    return ctr\n",
    "\n",
    "ele =int(input(\"Enter the element: \")) \n",
    "print(f\"The element is present: {count(eval(input('Enter elements in the list: ')),ele)}\")\n"
   ]
  },
  {
   "cell_type": "code",
   "execution_count": null,
   "id": "dc069bea-6d7c-4213-a449-63d733d7c48f",
   "metadata": {},
   "outputs": [],
   "source": []
  }
 ],
 "metadata": {
  "kernelspec": {
   "display_name": "Python 3 (ipykernel)",
   "language": "python",
   "name": "python3"
  },
  "language_info": {
   "codemirror_mode": {
    "name": "ipython",
    "version": 3
   },
   "file_extension": ".py",
   "mimetype": "text/x-python",
   "name": "python",
   "nbconvert_exporter": "python",
   "pygments_lexer": "ipython3",
   "version": "3.10.6"
  }
 },
 "nbformat": 4,
 "nbformat_minor": 5
}
