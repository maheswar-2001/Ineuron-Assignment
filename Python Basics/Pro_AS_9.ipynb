{
 "cells": [
  {
   "cell_type": "code",
   "execution_count": 13,
   "id": "f6ded81a-abb7-429f-9c82-dc78614280d5",
   "metadata": {},
   "outputs": [
    {
     "name": "stdin",
     "output_type": "stream",
     "text": [
      "Enter a number:  135\n"
     ]
    },
    {
     "name": "stdout",
     "output_type": "stream",
     "text": [
      "Disarium Number\n"
     ]
    }
   ],
   "source": [
    "#1. WAP to check whether a given number is disarium number or not\n",
    "\n",
    "import math\n",
    "\n",
    "def check(n):\n",
    "    count = len(str(n))\n",
    "    \n",
    "    sum = 0\n",
    "    temp = n\n",
    "    while temp > 0:\n",
    "        dg = temp % 10\n",
    "        sum = (int) (sum + math.pow(dg,count))\n",
    "        count = count - 1\n",
    "        temp = temp // 10\n",
    "    \n",
    "    if sum == n:\n",
    "        return 1\n",
    "    else:\n",
    "        return 0\n",
    "\n",
    "num = int(input(\"Enter a number: \"))\n",
    "if (check(num)) == 1:\n",
    "    print(\"Disarium Number\")\n",
    "else:\n",
    "    print(\"Not a Disarium Number\")"
   ]
  },
  {
   "cell_type": "code",
   "execution_count": 15,
   "id": "7dfb2ed1-4a27-4520-89fd-71d2a0bf3907",
   "metadata": {},
   "outputs": [
    {
     "name": "stdout",
     "output_type": "stream",
     "text": [
      "1 is a   Disarium Number\n",
      "2 is a   Disarium Number\n",
      "3 is a   Disarium Number\n",
      "4 is a   Disarium Number\n",
      "5 is a   Disarium Number\n",
      "6 is a   Disarium Number\n",
      "7 is a   Disarium Number\n",
      "8 is a   Disarium Number\n",
      "9 is a   Disarium Number\n",
      "89 is a   Disarium Number\n"
     ]
    }
   ],
   "source": [
    "#2. Write a Python program to print all disarium numbers between 1 to 100?\n",
    "\n",
    "import math\n",
    "\n",
    "def check(n):\n",
    "    count = len(str(n))\n",
    "    \n",
    "    sum = 0\n",
    "    temp = n\n",
    "    while temp > 0:\n",
    "        dg = temp % 10\n",
    "        sum = (int) (sum + math.pow(dg,count))\n",
    "        count = count - 1\n",
    "        temp = temp // 10\n",
    "    \n",
    "    if sum == n:\n",
    "        return 1\n",
    "    else:\n",
    "        return 0\n",
    "\n",
    "for i in range(1,101):\n",
    "    if (check(i)) == 1:\n",
    "        print(i, \"is a \",\" Disarium Number\")\n"
   ]
  },
  {
   "cell_type": "code",
   "execution_count": 2,
   "id": "364fb8d6-fd61-4ff9-9e85-75326c8f1551",
   "metadata": {},
   "outputs": [
    {
     "name": "stdin",
     "output_type": "stream",
     "text": [
      "Enter a number:  19\n"
     ]
    },
    {
     "name": "stdout",
     "output_type": "stream",
     "text": [
      "Happy Number\n"
     ]
    }
   ],
   "source": [
    "#3. Write a Python program to check if the given number is Happy Number?\n",
    "\n",
    "def isHappy(n):\n",
    "    temp = n\n",
    "    while temp > 9:\n",
    "        sum = 0\n",
    "        while temp > 0:\n",
    "            dg = temp % 10\n",
    "            sum = sum + dg ** 2\n",
    "            temp = temp // 10\n",
    "            #print(sum)\n",
    "        temp = sum\n",
    "        #print(sum)\n",
    "    if sum == 1:\n",
    "        return 1\n",
    "    else:\n",
    "        return 0;\n",
    "\n",
    "num = int(input(\"Enter a number: \"))\n",
    "if (isHappy(num) == 1):\n",
    "    print(\"Happy Number\")\n",
    "else:\n",
    "    print(\"Not Happy Number\")\n"
   ]
  },
  {
   "cell_type": "code",
   "execution_count": 3,
   "id": "b8f67425-ff1b-40b5-a9f9-6fa2008d4014",
   "metadata": {},
   "outputs": [
    {
     "name": "stdout",
     "output_type": "stream",
     "text": [
      "1 is a  Happy Number\n",
      "10 is a  Happy Number\n",
      "13 is a  Happy Number\n",
      "19 is a  Happy Number\n",
      "23 is a  Happy Number\n",
      "28 is a  Happy Number\n",
      "31 is a  Happy Number\n",
      "32 is a  Happy Number\n",
      "44 is a  Happy Number\n",
      "49 is a  Happy Number\n",
      "68 is a  Happy Number\n",
      "70 is a  Happy Number\n",
      "79 is a  Happy Number\n",
      "82 is a  Happy Number\n",
      "86 is a  Happy Number\n",
      "91 is a  Happy Number\n",
      "94 is a  Happy Number\n",
      "97 is a  Happy Number\n",
      "100 is a  Happy Number\n"
     ]
    }
   ],
   "source": [
    "#3. Write a Python program to display all the Happy numbers from 1 to 100?\n",
    "\n",
    "def isHappy(n):\n",
    "    temp = n\n",
    "    while temp > 9:\n",
    "        sum = 0\n",
    "        while temp > 0:\n",
    "            dg = temp % 10\n",
    "            sum = sum + dg*dg\n",
    "            temp = temp // 10\n",
    "            #print(sum)\n",
    "        temp = sum\n",
    "        #print(sum)\n",
    "    if temp == 1:\n",
    "        return 1\n",
    "    else:\n",
    "        return 0\n",
    "    \n",
    "for i in range(1,101):\n",
    "    if (isHappy(i) == 1):\n",
    "        print(i ,\"is a \",\"Happy Number\")\n"
   ]
  },
  {
   "cell_type": "code",
   "execution_count": 5,
   "id": "e6bfaa9c-e5b7-453b-8c51-fdf3c72790df",
   "metadata": {},
   "outputs": [
    {
     "name": "stdin",
     "output_type": "stream",
     "text": [
      "Enter a number:  18\n"
     ]
    },
    {
     "name": "stdout",
     "output_type": "stream",
     "text": [
      "Harshad Number\n"
     ]
    }
   ],
   "source": [
    "#4. Write a Python program to determine whether the given number is a Harshad Number?\n",
    "\n",
    "def isHarshad(n):\n",
    "    sum = 0\n",
    "    temp = n\n",
    "    while temp > 0:\n",
    "        dg = temp % 10\n",
    "        sum = sum + dg\n",
    "        temp = temp // 10\n",
    "    \n",
    "    if n % sum == 0:\n",
    "        return True\n",
    "    else:\n",
    "        return False\n",
    "\n",
    "num = int(input(\"Enter a number: \"))\n",
    "if (isHarshad(num)) == True:\n",
    "    print(\"Harshad Number\")\n",
    "else:\n",
    "    print(\"Not a Harshad Number\")\n",
    "    "
   ]
  },
  {
   "cell_type": "code",
   "execution_count": 11,
   "id": "23f23037-f7ea-405e-a35a-825876f0751f",
   "metadata": {},
   "outputs": [
    {
     "name": "stdout",
     "output_type": "stream",
     "text": [
      "2 is a Pronic Number\n",
      "6 is a Pronic Number\n",
      "12 is a Pronic Number\n",
      "20 is a Pronic Number\n",
      "30 is a Pronic Number\n",
      "42 is a Pronic Number\n",
      "56 is a Pronic Number\n",
      "72 is a Pronic Number\n",
      "90 is a Pronic Number\n"
     ]
    }
   ],
   "source": [
    "#5. Write a Python program to print all pronic numbers between 1 and 100?\n",
    "\n",
    "def check_pronic(num):\n",
    "    for i in range(1,num):\n",
    "        if (i * (i+1) == num):\n",
    "            print(num, \"is a Pronic Number\")\n",
    "    \n",
    "for x in range(1,101):\n",
    "    check_pronic(x)"
   ]
  },
  {
   "cell_type": "code",
   "execution_count": null,
   "id": "49472309-756a-443f-8e56-d0c8fbed0be0",
   "metadata": {},
   "outputs": [],
   "source": []
  }
 ],
 "metadata": {
  "kernelspec": {
   "display_name": "Python 3 (ipykernel)",
   "language": "python",
   "name": "python3"
  },
  "language_info": {
   "codemirror_mode": {
    "name": "ipython",
    "version": 3
   },
   "file_extension": ".py",
   "mimetype": "text/x-python",
   "name": "python",
   "nbconvert_exporter": "python",
   "pygments_lexer": "ipython3",
   "version": "3.10.6"
  }
 },
 "nbformat": 4,
 "nbformat_minor": 5
}
