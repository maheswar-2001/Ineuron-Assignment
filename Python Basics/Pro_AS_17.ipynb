{
 "cells": [
  {
   "cell_type": "markdown",
   "id": "72ac9579-8b06-424d-9884-b898bdcdb4a5",
   "metadata": {},
   "source": [
    "__1. Create a function that takes three arguments a, b, c and returns the sum of the\n",
    "numbers that are evenly divided by c from the range a, b inclusive.__"
   ]
  },
  {
   "cell_type": "code",
   "execution_count": 15,
   "id": "bcf11fe1-820a-48e9-9006-6612a1237abb",
   "metadata": {},
   "outputs": [
    {
     "name": "stdout",
     "output_type": "stream",
     "text": [
      "30\n",
      "0\n",
      "18\n"
     ]
    }
   ],
   "source": [
    "def evenly_divisible(a, b, c):\n",
    "    if c>b: return 0\n",
    "    #print(a,b,c)\n",
    "    sum = 0\n",
    "    for i in range(a,b+1,1):\n",
    "        if i % c == 0:\n",
    "            sum += i\n",
    "    return sum\n",
    "\n",
    "x = evenly_divisible(1,10,2)\n",
    "print(x)\n",
    "\n",
    "y = evenly_divisible(1,10,20)\n",
    "print(y)\n",
    "\n",
    "z = evenly_divisible(1,10,3)\n",
    "print(z)"
   ]
  },
  {
   "cell_type": "markdown",
   "id": "a963104d-4363-4d6c-b628-e6622c291f73",
   "metadata": {},
   "source": [
    "__2. Create a function that returns True if a given inequality expression is correct and\n",
    "False otherwise.__"
   ]
  },
  {
   "cell_type": "code",
   "execution_count": 21,
   "id": "8dd8c3f3-3978-4021-a1bd-3fda41a2dab5",
   "metadata": {},
   "outputs": [
    {
     "name": "stdin",
     "output_type": "stream",
     "text": [
      "Enter the inequality:  3< 7 < 11\n"
     ]
    },
    {
     "name": "stdout",
     "output_type": "stream",
     "text": [
      "True\n",
      "3< 7 < 11 - True\n"
     ]
    }
   ],
   "source": [
    "def checkEquality():\n",
    "    in_str = input('Enter the inequality: ')\n",
    "    out_bool = eval(in_str)\n",
    "    print(f'{in_str} - {out_bool}')\n",
    "\n",
    "for x in range(1):\n",
    "    checkEquality()"
   ]
  },
  {
   "cell_type": "markdown",
   "id": "6499be1d-4132-49a9-8022-d06d81e8d8ae",
   "metadata": {},
   "source": [
    "__3. Create a function that replaces all the vowels in a string with a specified character.__"
   ]
  },
  {
   "cell_type": "code",
   "execution_count": 24,
   "id": "2c43e342-6c91-4135-a965-0b3758b0de34",
   "metadata": {},
   "outputs": [
    {
     "name": "stdout",
     "output_type": "stream",
     "text": [
      "th# ##rdv#rk\n",
      "m?nn?? m??s?\n",
      "sh*k*sp*r*\n"
     ]
    }
   ],
   "source": [
    "def replace_vowles(str,ch):\n",
    "    st=\"\"\n",
    "    for i in str:\n",
    "        if i in ['a','e','i','o','u']:\n",
    "            st+=ch\n",
    "        else:\n",
    "            st+=i\n",
    "    return st\n",
    "\n",
    "x = replace_vowles(\"the aardvark\",\"#\")\n",
    "print(x)\n",
    "\n",
    "x = replace_vowles(\"minnie mouse\",\"?\")\n",
    "print(x)\n",
    "\n",
    "x = replace_vowles(\"shakespare\",\"*\")\n",
    "print(x)"
   ]
  },
  {
   "cell_type": "markdown",
   "id": "af3295d6-bbd0-4fea-80db-35234b278ccc",
   "metadata": {},
   "source": [
    "__4. Write a function that calculates the factorial of a number recursively.__"
   ]
  },
  {
   "cell_type": "code",
   "execution_count": 27,
   "id": "fe61d72c-1356-4030-b278-dec76f45d33f",
   "metadata": {},
   "outputs": [
    {
     "name": "stdout",
     "output_type": "stream",
     "text": [
      "Factorial of 5 is: 120\n",
      "Factorial of 6 is: 720\n"
     ]
    }
   ],
   "source": [
    "def fact(num):\n",
    "    if num == 1:\n",
    "        return 1\n",
    "    return num * fact(num-1)\n",
    "\n",
    "x = fact(5)\n",
    "print(f'Factorial of 5 is: {x}')\n",
    "\n",
    "y = fact(6)\n",
    "print(f'Factorial of 6 is: {y}')"
   ]
  },
  {
   "cell_type": "markdown",
   "id": "062fc1ff-9a52-4273-89b4-d0ac811ba8be",
   "metadata": {},
   "source": [
    "__5. Hamming distance is the number of characters that differ between two strings.\n",
    "To illustrate:\n",
    "String1: \"abcbba\"\n",
    "String2: \"abcbda\"\n",
    "Hamming Distance: 1 - 'b' vs. 'd' is the only difference.\n",
    "Create a function that computes the hamming distance between two strings.__"
   ]
  },
  {
   "cell_type": "code",
   "execution_count": 28,
   "id": "db3d93c8-91e3-4563-bce2-0d4c09c57f17",
   "metadata": {},
   "outputs": [
    {
     "name": "stdout",
     "output_type": "stream",
     "text": [
      "1\n"
     ]
    }
   ],
   "source": [
    "def hamming_distance(st,str):\n",
    "    count = 0\n",
    "    if len(st) == len(str):\n",
    "        for i in range(len(st)):\n",
    "            if st[i] != str[i]:\n",
    "                count += 1\n",
    "        print(count)\n",
    "    else:\n",
    "        print(\"Both the string must be of equal length\")\n",
    "        \n",
    "hamming_distance(\"strong\",\"strung\")"
   ]
  },
  {
   "cell_type": "code",
   "execution_count": null,
   "id": "e6cb10dd-e563-4f67-b74d-bd222a5a6cf5",
   "metadata": {},
   "outputs": [],
   "source": []
  }
 ],
 "metadata": {
  "kernelspec": {
   "display_name": "Python 3 (ipykernel)",
   "language": "python",
   "name": "python3"
  },
  "language_info": {
   "codemirror_mode": {
    "name": "ipython",
    "version": 3
   },
   "file_extension": ".py",
   "mimetype": "text/x-python",
   "name": "python",
   "nbconvert_exporter": "python",
   "pygments_lexer": "ipython3",
   "version": "3.10.6"
  }
 },
 "nbformat": 4,
 "nbformat_minor": 5
}
