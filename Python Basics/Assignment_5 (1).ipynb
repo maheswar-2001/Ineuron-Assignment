{
 "cells": [
  {
   "cell_type": "markdown",
   "id": "dfd903c2-1be7-4946-b789-7bda619bb61e",
   "metadata": {},
   "source": [
    "__1. What does an empty dictionary's code look like?__\n",
    "\n",
    "Ans: The empty dictionary code is of following type:\n",
    "\n",
    "d = { }"
   ]
  },
  {
   "cell_type": "markdown",
   "id": "1364bc88-e275-4b30-b42e-f0290f23f572",
   "metadata": {},
   "source": [
    "__2. What is the value of a dictionary value with the key 'foo' and the value 42?__\n",
    "\n",
    "Ans: The dicitionary with key 'foo' and value 42, its value will be __42__"
   ]
  },
  {
   "cell_type": "markdown",
   "id": "c853bff0-15aa-45d6-8451-79f8888e3a77",
   "metadata": {},
   "source": [
    "__3. What is the most significant distinction between a dictionary and a list?__\n",
    "\n",
    "Ans: The values of dictionary are accessed by its corresponding keys whereas to access the elements of a list we use the index number of that particular element.\n"
   ]
  },
  {
   "cell_type": "markdown",
   "id": "2b80f917-f0c8-44ba-8df8-0700a4f5d5a6",
   "metadata": {},
   "source": [
    "__4. What happens if you try to access spam['foo'] if spam is {'bar': 100}?__\n",
    "\n",
    "Ans: When we try to access spam['foo'], the python interpreter will return a __KeyError__. As the key 'foo' is not present in the dictionary spam"
   ]
  },
  {
   "cell_type": "markdown",
   "id": "67a3bdee-30a1-4592-a5db-d20e28b729d1",
   "metadata": {},
   "source": [
    "__5. If a dictionary is stored in spam, what is the difference between the expressions \n",
    "'cat' in spam and 'cat' in spam.keys()?__\n",
    "\n",
    "Ans: The function of both the expression is same both the expression are searching for the Key __cat__ in the dictionary"
   ]
  },
  {
   "cell_type": "markdown",
   "id": "ac146e6d-2584-428f-b62d-5dab55612b88",
   "metadata": {},
   "source": [
    "__6. If a dictionary is stored in spam, what is the difference between the expressions 'cat' in spam and 'cat' in spam.values()?__\n",
    "\n",
    "Ans: The first expression 'cat' in spam checks for the key cat in the dictionary whereas cat in spam.values() expression checks for the value __cat__ in the expression."
   ]
  },
  {
   "cell_type": "markdown",
   "id": "4a9ef01a-70a9-424c-a67f-b099858991f1",
   "metadata": {},
   "source": [
    "__7. What is a shortcut for the following code?__\n",
    "\n",
    "if 'color' not in spam:\n",
    "spam['color'] = 'black'\n",
    "\n",
    "Ans: The shortcut for the above code will be: \n",
    "\n",
    "__spam['color'] = 'black'__\n"
   ]
  },
  {
   "cell_type": "markdown",
   "id": "fff40762-414e-4926-a82b-0141adcd5da5",
   "metadata": {},
   "source": [
    "__8. How do you \"pretty print\" dictionary values using which module and function?__\n",
    "\n",
    "To \"pretty print\" dictionary values we need to import json module by giving the statement __import json__ and then use the function dumps() of json module.\n"
   ]
  },
  {
   "cell_type": "code",
   "execution_count": null,
   "id": "b4ba68e2-c8ac-4c4d-8868-1b3911cf91ce",
   "metadata": {},
   "outputs": [],
   "source": []
  }
 ],
 "metadata": {
  "kernelspec": {
   "display_name": "Python 3 (ipykernel)",
   "language": "python",
   "name": "python3"
  },
  "language_info": {
   "codemirror_mode": {
    "name": "ipython",
    "version": 3
   },
   "file_extension": ".py",
   "mimetype": "text/x-python",
   "name": "python",
   "nbconvert_exporter": "python",
   "pygments_lexer": "ipython3",
   "version": "3.10.6"
  }
 },
 "nbformat": 4,
 "nbformat_minor": 5
}
