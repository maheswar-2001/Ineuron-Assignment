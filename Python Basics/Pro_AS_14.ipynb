{
 "cells": [
  {
   "cell_type": "markdown",
   "id": "c7586605-6ef0-4bf2-a973-527493a99e78",
   "metadata": {},
   "source": [
    "Define a class with a generator which can iterate the numbers, which are divisible by\n",
    "7, between a given range 0 and n.\n"
   ]
  },
  {
   "cell_type": "code",
   "execution_count": 5,
   "id": "d53f18c6-2a62-4605-87cc-a798cc40ebe8",
   "metadata": {},
   "outputs": [
    {
     "name": "stdout",
     "output_type": "stream",
     "text": [
      "0\n",
      "7\n",
      "14\n",
      "21\n",
      "28\n",
      "35\n",
      "42\n",
      "49\n",
      "56\n",
      "63\n",
      "70\n",
      "77\n",
      "84\n",
      "91\n",
      "98\n"
     ]
    }
   ],
   "source": [
    "class gen_numbers:\n",
    "    def numbers(n):\n",
    "        for i in range(0,n+1):\n",
    "            if i % 7 == 0:\n",
    "                yield i\n",
    "                \n",
    "    for val in numbers(100):\n",
    "        print(val)\n",
    "    \n",
    "gg = gen_numbers()\n"
   ]
  },
  {
   "cell_type": "markdown",
   "id": "fa4a886a-7e9a-4f7a-8016-25c50059f9a4",
   "metadata": {},
   "source": [
    "Write a program to compute the frequency of the words from the input. The output should output after sorting the key alphanumerically.\n",
    "\n",
    "Suppose the following input is supplied to the program:\n",
    "New to Python or choosing between Python 2 and Python 3? Read Python 2 or\n",
    "Python 3.\n",
    "Then, the output should be:\n",
    "2:2\n",
    "3.:1\n",
    "3?:1\n",
    "New:1\n",
    "Python:5\n",
    "Read:1\n",
    "and:1\n",
    "between:1\n",
    "choosing:1\n",
    "or:2\n",
    "to:1"
   ]
  },
  {
   "cell_type": "code",
   "execution_count": 9,
   "id": "5fe3faf4-0030-46d7-b168-e63ecaa9d74d",
   "metadata": {},
   "outputs": [
    {
     "name": "stdout",
     "output_type": "stream",
     "text": [
      "{'New': 1, 'to': 1, 'Python': 5, 'or': 2, 'choosing': 1, 'between': 1, '2': 2, 'and': 1, '3?': 1, 'Read': 1, '3': 1}\n"
     ]
    }
   ],
   "source": [
    "def compute_frequency(str):\n",
    "    ls = str.split()\n",
    "    d={}\n",
    "    for i in ls:\n",
    "        d[i]=ls.count(i)\n",
    "    \n",
    "    print(d)\n",
    "\n",
    "s=\"New to Python or choosing between Python 2 and Python 3? Read Python 2 or Python 3\"\n",
    "compute_frequency(s)\n",
    "        "
   ]
  },
  {
   "cell_type": "markdown",
   "id": "b7bcf5f4-1c59-4cb9-8c6b-ff6c8f52cc49",
   "metadata": {},
   "source": [
    "Define a class Person and its two child classes: Male and Female. All classes have a method \"Gender\" which can print \"Male\" for Male class and \"Female\" for Female class."
   ]
  },
  {
   "cell_type": "code",
   "execution_count": 11,
   "id": "2e019611-b2a7-49aa-901d-59bbf1be6c1f",
   "metadata": {},
   "outputs": [
    {
     "name": "stdout",
     "output_type": "stream",
     "text": [
      "Male\n",
      "Female\n"
     ]
    }
   ],
   "source": [
    "class Person:\n",
    "    def Gender(self):\n",
    "        print(\"In Person Class\")\n",
    "\n",
    "class Male(Person):\n",
    "    def Gender(self):\n",
    "        print(\"Male\")\n",
    "\n",
    "class Female(Person):\n",
    "    def Gender(self):\n",
    "        print(\"Female\")\n",
    "\n",
    "m = Male()\n",
    "m.Gender()\n",
    "\n",
    "f = Female()\n",
    "f.Gender()\n",
    "        "
   ]
  },
  {
   "cell_type": "markdown",
   "id": "a71a2615-a642-40dd-b54e-4e372e4e28f2",
   "metadata": {},
   "source": [
    "Please write a binary search function which searches an item in a sorted list. Thefunction should return the index of element to be searched in the list."
   ]
  },
  {
   "cell_type": "code",
   "execution_count": null,
   "id": "a00bf7c2-147a-4f7c-8816-bd9498704fce",
   "metadata": {},
   "outputs": [],
   "source": [
    "def binary_search(arr,target):\n",
    "    l = len(arr)\n",
    "    s =0\n",
    "    end=l-1\n",
    "    while s<=end:\n",
    "        int mid = (s+end)/2\n",
    "        if(arr[mid] == target):\n",
    "            return mid\n",
    "        elif target > arr[mid]:\n",
    "            s = mid + 1\n",
    "        else:\n",
    "            end = mid -1\n",
    "x = binary_search([12,15,19,25,36,42,45,90],45)\n",
    "if x == None:\n",
    "    print(\"Element not found\")\n",
    "else:\n",
    "    print(\"Element is at i"
   ]
  }
 ],
 "metadata": {
  "kernelspec": {
   "display_name": "Python 3 (ipykernel)",
   "language": "python",
   "name": "python3"
  },
  "language_info": {
   "codemirror_mode": {
    "name": "ipython",
    "version": 3
   },
   "file_extension": ".py",
   "mimetype": "text/x-python",
   "name": "python",
   "nbconvert_exporter": "python",
   "pygments_lexer": "ipython3",
   "version": "3.10.6"
  }
 },
 "nbformat": 4,
 "nbformat_minor": 5
}
