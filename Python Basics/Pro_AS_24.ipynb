{
 "cells": [
  {
   "cell_type": "markdown",
   "id": "2ec77722-85e1-42a9-a053-dda3bd5ee131",
   "metadata": {},
   "source": [
    "__1. Create a function that takes an integer and returns a list from 1 to the given number, where:\n",
    "1. If the number can be divided evenly by 4, amplify it by 10 (i.e. return 10 times the\n",
    "number).\n",
    "2. If the number cannot be divided evenly by 4, simply return the number.__"
   ]
  },
  {
   "cell_type": "code",
   "execution_count": 1,
   "id": "572d962c-4d69-472b-b243-9d20bf547f54",
   "metadata": {},
   "outputs": [
    {
     "name": "stdout",
     "output_type": "stream",
     "text": [
      "[1, 2, 3, 40, 5, 6, 7, 80, 9, 10, 11, 120, 13, 14, 15, 160, 17, 18, 19, 200, 21, 22, 23, 240, 25]\n"
     ]
    }
   ],
   "source": [
    "def amplify(num):\n",
    "    res = [i if i % 4 !=0 else i * 10 for i in range(1,num+1)]\n",
    "    return res\n",
    "\n",
    "x = amplify(25)\n",
    "print(x)"
   ]
  },
  {
   "cell_type": "markdown",
   "id": "a03b9f06-a778-4acb-9729-cc14c6f08bd3",
   "metadata": {},
   "source": [
    "__2.Create a function that takes a list of numbers and return the number that's unique.__"
   ]
  },
  {
   "cell_type": "code",
   "execution_count": 3,
   "id": "f4c51cd8-e9fc-4e06-8a69-7c97143bb189",
   "metadata": {},
   "outputs": [
    {
     "name": "stdout",
     "output_type": "stream",
     "text": [
      "[3, 3, 3, 7, 3, 3] ➞ 7\n",
      "[0, 0, 0.77, 0, 0] ➞ 0.77\n",
      "[0, 1, 1, 1, 1, 1, 1, 1] ➞ 0\n"
     ]
    }
   ],
   "source": [
    "def unique(ls):\n",
    "    num=0\n",
    "    for i in set(ls):\n",
    "        if ls.count(i) == 1:\n",
    "            num = i\n",
    "    print(f'{ls} ➞ {num}')\n",
    "\n",
    "unique([3, 3, 3, 7, 3, 3])\n",
    "unique([0, 0, 0.77, 0, 0])\n",
    "unique([0, 1, 1, 1, 1, 1, 1, 1])"
   ]
  },
  {
   "cell_type": "markdown",
   "id": "32dda164-19c7-4d0a-8eb5-86d93cd63c21",
   "metadata": {},
   "source": [
    "__3. Your task is to create a Circle constructor that creates a circle with a radius provided by an argument. The circles constructed must have two getters getArea() (PIr^2) and getPerimeter() (2PI*r) which give both respective areas and perimeter (circumference).__"
   ]
  },
  {
   "cell_type": "code",
   "execution_count": 6,
   "id": "eab56ee1-046f-49d7-8e67-516645d7c5c4",
   "metadata": {},
   "outputs": [
    {
     "name": "stdout",
     "output_type": "stream",
     "text": [
      "Area of Circle: 78.5\n",
      "Perimeter of Circle: 31.400000000000002\n"
     ]
    }
   ],
   "source": [
    "class Circle_Area:\n",
    "    def __init__(self,rad):\n",
    "        self.rad = rad\n",
    "    def getArea(self):\n",
    "        return 3.14 * self.rad ** 2\n",
    "    def getPerimeter(self):\n",
    "        return 2 * 3.14 * self.rad\n",
    "\n",
    "cir = Circle_Area(5)\n",
    "area = cir.getArea()\n",
    "perimeter = cir.getPerimeter()\n",
    "print(f'Area of Circle: {area}')\n",
    "print(f'Perimeter of Circle: {perimeter}')"
   ]
  },
  {
   "cell_type": "markdown",
   "id": "f02c069d-16b1-4075-ada9-27f00b2513c8",
   "metadata": {},
   "source": [
    "__4. Create a function that takes a list of strings and return a list, sorted from shortest to longest.__"
   ]
  },
  {
   "cell_type": "code",
   "execution_count": 2,
   "id": "60c414dc-6e16-495e-bb2b-691e3c402629",
   "metadata": {},
   "outputs": [
    {
     "name": "stdout",
     "output_type": "stream",
     "text": [
      "['Apple', 'Google', 'Microsoft']\n",
      "['Aditya', 'Advika', 'Sachit', 'Anshuka', 'Pratyshak']\n"
     ]
    }
   ],
   "source": [
    "def sort_by_length(ls):\n",
    "    print(sorted(ls,key=len))\n",
    "\n",
    "sort_by_length([\"Google\",\"Apple\",\"Microsoft\"])\n",
    "sort_by_length([\"Aditya\",\"Pratyshak\",\"Advika\",\"Anshuka\",\"Sachit\"])"
   ]
  },
  {
   "cell_type": "markdown",
   "id": "1c45b74b-8ce3-45af-b0da-096004c578d1",
   "metadata": {},
   "source": [
    "__5. Create a function that validates whether three given integers form a Pythagorean triplet. The sum of the squares of the two smallest integers must equal the square of the largest number to be validated__"
   ]
  },
  {
   "cell_type": "code",
   "execution_count": 3,
   "id": "42b34be5-e3a1-4b71-b10a-15afa9de7e52",
   "metadata": {},
   "outputs": [
    {
     "name": "stdout",
     "output_type": "stream",
     "text": [
      "True\n"
     ]
    }
   ],
   "source": [
    "def is_triplet(a,b,c):\n",
    "    if (a**2 + b**2 == c ** 2):\n",
    "        return True\n",
    "    else:\n",
    "        return False\n",
    "\n",
    "x = is_triplet(4,3,5)\n",
    "print(x)"
   ]
  },
  {
   "cell_type": "code",
   "execution_count": null,
   "id": "c083ddba-2d76-482e-8d6e-71eb0aaab8ca",
   "metadata": {},
   "outputs": [],
   "source": []
  }
 ],
 "metadata": {
  "kernelspec": {
   "display_name": "Python 3 (ipykernel)",
   "language": "python",
   "name": "python3"
  },
  "language_info": {
   "codemirror_mode": {
    "name": "ipython",
    "version": 3
   },
   "file_extension": ".py",
   "mimetype": "text/x-python",
   "name": "python",
   "nbconvert_exporter": "python",
   "pygments_lexer": "ipython3",
   "version": "3.10.6"
  }
 },
 "nbformat": 4,
 "nbformat_minor": 5
}
