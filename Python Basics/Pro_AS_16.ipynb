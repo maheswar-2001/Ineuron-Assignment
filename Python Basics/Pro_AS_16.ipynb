{
 "cells": [
  {
   "cell_type": "markdown",
   "id": "b8ade492-c627-4139-a853-78c5c5b3c9a7",
   "metadata": {},
   "source": [
    "__1.Write a function that stutters a word as if someone is struggling to read it. The first two letters are repeated twice with an ellipsis ... and space after each, and then the word is pronounced with a question mark ?.__\n"
   ]
  },
  {
   "cell_type": "code",
   "execution_count": 9,
   "id": "6bab2299-c1e4-4d05-9e39-cf9bf1706e81",
   "metadata": {},
   "outputs": [
    {
     "name": "stdout",
     "output_type": "stream",
     "text": [
      "' in ... in ... incredible ? '\n",
      "' en ... en ... enthusiastic ? '\n",
      "' ou ... ou ... outstanding ? '\n"
     ]
    }
   ],
   "source": [
    "def stutters(st):\n",
    "    print(\"\\'\",st[0:2],\"...\",st[0:2],\"...\",st,'?',\"\\'\")\n",
    "\n",
    "stutters('incredible')\n",
    "stutters('enthusiastic')\n",
    "stutters('outstanding')"
   ]
  },
  {
   "cell_type": "markdown",
   "id": "a7cbe10a-7d7e-4509-bba3-1fcfad17d108",
   "metadata": {},
   "source": [
    "__2.Create a function that takes an angle in radians and returns the corresponding\n",
    "angle in degrees rounded to one decimal place.__"
   ]
  },
  {
   "cell_type": "code",
   "execution_count": 17,
   "id": "e2c09cf6-ba1a-4455-ae85-ea97e343f5f4",
   "metadata": {},
   "outputs": [
    {
     "name": "stdout",
     "output_type": "stream",
     "text": [
      "57.3\n",
      "1145.9\n",
      "2864.8\n"
     ]
    }
   ],
   "source": [
    "import math\n",
    "def radian_to_degree(rad):\n",
    "    deg = math.degrees(rad)\n",
    "    print(\"%.1f\" % deg)\n",
    "\n",
    "radian_to_degree(1)\n",
    "radian_to_degree(20)\n",
    "radian_to_degree(50)"
   ]
  },
  {
   "cell_type": "markdown",
   "id": "67b5a650-9563-4301-ae38-ea84b9bebc65",
   "metadata": {},
   "source": [
    "__3.In this challenge, establish if a given integer num is a Curzon number. If 1 plus\n",
    "2 elevated to num is exactly divisible by 1 plus 2 multiplied by num, then num is a Curzon number.\n",
    "Given a non-negative integer num, implement a function that returns True if num is a Curzon\n",
    "number, or False otherwise.__"
   ]
  },
  {
   "cell_type": "code",
   "execution_count": 21,
   "id": "c6875663-650d-4163-a0a7-e40c3d25535d",
   "metadata": {},
   "outputs": [
    {
     "name": "stdout",
     "output_type": "stream",
     "text": [
      "33 is the multiple of 11\n",
      "1025 is not the multiple of 21\n",
      "16385 is the multiple of 29\n"
     ]
    }
   ],
   "source": [
    "def is_Curzon(num):\n",
    "    prod = 2 ** num + 1\n",
    "    sum = 2 * num + 1\n",
    "    if prod % sum == 0:\n",
    "        print(f'{prod} is the multiple of {sum}')\n",
    "    else:\n",
    "        print(f'{prod} is not the multiple of {sum}')\n",
    "\n",
    "is_Curzon(5)\n",
    "is_Curzon(10)\n",
    "is_Curzon(14)\n",
    "            "
   ]
  },
  {
   "cell_type": "markdown",
   "id": "fea5b062-8b5f-4092-9dda-4fbfe005be32",
   "metadata": {},
   "source": [
    "__4.Given the side length x find the area of a hexagon.__"
   ]
  },
  {
   "cell_type": "code",
   "execution_count": 28,
   "id": "e0adf944-5822-468b-ad3a-d72491534b9e",
   "metadata": {},
   "outputs": [
    {
     "name": "stdout",
     "output_type": "stream",
     "text": [
      "2.6\n",
      "7.8\n",
      "5.2\n"
     ]
    }
   ],
   "source": [
    "import math\n",
    "def area_of_hexagon(side):\n",
    "    area = (3 * math.sqrt(3) * side) / 2\n",
    "    print(\"%.1f\" % area)\n",
    "\n",
    "area_of_hexagon(1)\n",
    "area_of_hexagon(3)\n",
    "area_of_hexagon(2)"
   ]
  },
  {
   "cell_type": "markdown",
   "id": "7645cb93-d8e0-4a99-ac3e-7420ac756759",
   "metadata": {},
   "source": [
    "__5. Create a function that returns a base-2 (binary) representation of a base-10\n",
    "(decimal) string number.__"
   ]
  },
  {
   "cell_type": "code",
   "execution_count": 30,
   "id": "d5ee7e14-6e98-4579-bca2-f23c76bb2ea7",
   "metadata": {},
   "outputs": [
    {
     "name": "stdout",
     "output_type": "stream",
     "text": [
      "101\n",
      "1010\n"
     ]
    }
   ],
   "source": [
    "def decimal_to_binary(num):\n",
    "    bin=\"\"\n",
    "    while(num>0):\n",
    "        dg = num % 2\n",
    "        bin = str(dg)+bin\n",
    "        num = num // 2\n",
    "    \n",
    "    return bin\n",
    "\n",
    "x = decimal_to_binary(5)\n",
    "print(x)\n",
    "\n",
    "y = decimal_to_binary(10)\n",
    "print(y)\n",
    "    "
   ]
  }
 ],
 "metadata": {
  "kernelspec": {
   "display_name": "Python 3 (ipykernel)",
   "language": "python",
   "name": "python3"
  },
  "language_info": {
   "codemirror_mode": {
    "name": "ipython",
    "version": 3
   },
   "file_extension": ".py",
   "mimetype": "text/x-python",
   "name": "python",
   "nbconvert_exporter": "python",
   "pygments_lexer": "ipython3",
   "version": "3.10.6"
  }
 },
 "nbformat": 4,
 "nbformat_minor": 5
}
