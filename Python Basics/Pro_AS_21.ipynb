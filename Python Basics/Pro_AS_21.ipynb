{
 "cells": [
  {
   "cell_type": "markdown",
   "id": "6c65b73a-8209-4bc4-9190-3b8b06800c98",
   "metadata": {},
   "source": [
    "__1. Write a function that takes a list and a number as arguments. Add the number to the end of\n",
    "the list, then remove the first element of the list. The function should then return the updated\n",
    "list.__"
   ]
  },
  {
   "cell_type": "code",
   "execution_count": 2,
   "id": "677961f4-bf75-4aeb-91a8-8ac7bfd6e6c4",
   "metadata": {},
   "outputs": [
    {
     "name": "stdout",
     "output_type": "stream",
     "text": [
      "[6, 7, 8, 9, 5]\n",
      "[6, 3, 23, 17, 7]\n",
      "No list has been selected\n"
     ]
    }
   ],
   "source": [
    "def next_in_line(in_ls,num):\n",
    "    if bool(in_ls):\n",
    "        x = in_ls.pop(0)\n",
    "        in_ls.append(x)\n",
    "        return in_ls\n",
    "    else:\n",
    "        return \"No list has been selected\"\n",
    "        \n",
    "\n",
    "y = next_in_line([5,6,7,8,9],1)\n",
    "print(y)\n",
    "\n",
    "z = next_in_line([7,6,3,23,17],10)\n",
    "print(z)\n",
    "\n",
    "a = next_in_line([],6)\n",
    "print(a)"
   ]
  },
  {
   "cell_type": "markdown",
   "id": "84877fd8-b098-4c3e-b56e-a0daa705114b",
   "metadata": {},
   "source": [
    "__2. Create the function that takes a list of dictionaries and returns the sum of people&#39;s budgets.__"
   ]
  },
  {
   "cell_type": "code",
   "execution_count": 13,
   "id": "726feaa7-4374-4d60-9fb2-b666ede84a86",
   "metadata": {},
   "outputs": [
    {
     "name": "stdout",
     "output_type": "stream",
     "text": [
      "65700\n"
     ]
    }
   ],
   "source": [
    "def get_budgets(dic):\n",
    "        #print(dic[i][\"Budget\"])\n",
    "        res = [dic[i][\"Budget\"] for i in range(len(dic))]\n",
    "        print(sum(res))\n",
    "\n",
    "get_budgets([{'Name':\"John\",\"Age\":21,\"Budget\":23000},\n",
    "            {'Name':\"Steve\",\"Age\":32,\"Budget\":40000},\n",
    "            {'Name':\"Martin\",\"Age\":16,\"Budget\":2700}])\n"
   ]
  },
  {
   "cell_type": "markdown",
   "id": "c9b860e0-279d-472c-a3e7-d73e0eca8f68",
   "metadata": {},
   "source": [
    "__3. Create a function that takes a string and returns a string with its letters in alphabetical order.__"
   ]
  },
  {
   "cell_type": "code",
   "execution_count": 15,
   "id": "45a817a0-b529-4e57-9244-2d97f5348c96",
   "metadata": {},
   "outputs": [
    {
     "name": "stdout",
     "output_type": "stream",
     "text": [
      "aacijprstv"
     ]
    }
   ],
   "source": [
    "def alphabet_soup(str):\n",
    "    lst = [str[i] for i in range(0,len(str))]\n",
    "    lst.sort()\n",
    "    for i in lst:\n",
    "        print(i, end = \"\")\n",
    "\n",
    "\n",
    "alphabet_soup('javascript')"
   ]
  }
 ],
 "metadata": {
  "kernelspec": {
   "display_name": "Python 3 (ipykernel)",
   "language": "python",
   "name": "python3"
  },
  "language_info": {
   "codemirror_mode": {
    "name": "ipython",
    "version": 3
   },
   "file_extension": ".py",
   "mimetype": "text/x-python",
   "name": "python",
   "nbconvert_exporter": "python",
   "pygments_lexer": "ipython3",
   "version": "3.10.6"
  }
 },
 "nbformat": 4,
 "nbformat_minor": 5
}
