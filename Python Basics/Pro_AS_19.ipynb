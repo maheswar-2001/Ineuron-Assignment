{
 "cells": [
  {
   "cell_type": "markdown",
   "id": "dfa13800-ae37-4cf3-b2cc-fd83e370bbc8",
   "metadata": {},
   "source": [
    "__1. Create a function that takes a string and returns a string in which each character is repeated\n",
    "once.__"
   ]
  },
  {
   "cell_type": "code",
   "execution_count": 2,
   "id": "383a2e19-eaf3-4704-b928-3efff3779889",
   "metadata": {},
   "outputs": [
    {
     "name": "stdout",
     "output_type": "stream",
     "text": [
      "HHeelllloo  WWoorrlldd\n",
      "SSttrriinngg\n",
      "11223344!!__\n"
     ]
    }
   ],
   "source": [
    "def double_char(s):\n",
    "    st=\"\"\n",
    "    for i in s:\n",
    "        st=st+i+i\n",
    "    print(st)\n",
    "\n",
    "double_char(\"Hello World\")\n",
    "double_char(\"String\")\n",
    "double_char(\"1234!_\")"
   ]
  },
  {
   "cell_type": "markdown",
   "id": "823e0942-35d8-4227-8a05-de487a083c04",
   "metadata": {},
   "source": [
    "__2. Create a function that reverses a boolean value and returns the string &quot;boolean expected&quot;\n",
    "if another variable type is given.__"
   ]
  },
  {
   "cell_type": "code",
   "execution_count": null,
   "id": "3b1daf00-e336-44cc-9948-56f425e0f1f0",
   "metadata": {},
   "outputs": [
    {
     "name": "stdout",
     "output_type": "stream",
     "text": [
      "True\n",
      "False\n",
      "boolean expected\n",
      "boolean expected\n"
     ]
    }
   ],
   "source": [
    "def reverse(x):\n",
    "    if type(x) == bool:\n",
    "        print(not x)\n",
    "    else:\n",
    "        print(\"boolean expected\")\n",
    "\n",
    "reverse(False)\n",
    "reverse(True)\n",
    "reverse(1)\n",
    "reverse(None)"
   ]
  },
  {
   "cell_type": "markdown",
   "id": "90d8c692-652c-4232-95d6-74e58962aaa4",
   "metadata": {},
   "source": [
    "__3.  Create a function that returns the thickness (in meters) of a piece of paper after folding it n\n",
    "number of times. The paper starts off with a thickness of 0.5mm.__"
   ]
  },
  {
   "cell_type": "code",
   "execution_count": 7,
   "id": "f0bcde40-4c4d-439f-800e-32d8d4fd797a",
   "metadata": {},
   "outputs": [
    {
     "name": "stdout",
     "output_type": "stream",
     "text": [
      "Output ➞ 0.001m\n",
      "Output ➞ 0.008m\n",
      "Output ➞ 1048.576m\n"
     ]
    }
   ],
   "source": [
    "def num_layers(num):\n",
    "    val = 0.5\n",
    "    for ele in range(num):\n",
    "        val *= 2\n",
    "    print(f'Output ➞ {val/1000}m')\n",
    "    \n",
    "num_layers(1)\n",
    "num_layers(4)\n",
    "num_layers(21)"
   ]
  },
  {
   "cell_type": "markdown",
   "id": "2206b7ed-cf5e-45a8-bad5-3b13fbbe04f9",
   "metadata": {},
   "source": [
    "__4. Create a function that takes a single string as argument and returns an ordered list containing\n",
    "the indices of all capital letters in the string.__"
   ]
  },
  {
   "cell_type": "code",
   "execution_count": 9,
   "id": "165faeb5-2770-4325-acbf-049d069b1e2c",
   "metadata": {},
   "outputs": [
    {
     "name": "stdout",
     "output_type": "stream",
     "text": [
      "[1, 3, 5]\n",
      "[1, 3, 4, 6]\n",
      "[]\n",
      "[0, 1, 2, 3, 4, 5]\n",
      "[1]\n"
     ]
    }
   ],
   "source": [
    "def index_cap(in_st):\n",
    "    out_ls=[]\n",
    "    for i in range(len(in_st)):\n",
    "        if in_st[i].isupper():\n",
    "            out_ls.append(i)\n",
    "    print(out_ls)\n",
    "\n",
    "index_cap(\"eDaBiT\")\n",
    "index_cap(\"eQuINoX\")\n",
    "index_cap(\"determine\")\n",
    "index_cap(\"STRIKE\")\n",
    "index_cap(\"sUn\")            "
   ]
  },
  {
   "cell_type": "markdown",
   "id": "a2553785-67ac-471b-adc2-5b7a641be5fd",
   "metadata": {},
   "source": [
    "__5. Using list comprehensions, create a function that finds all even numbers from 1 to the given\n",
    "number.__"
   ]
  },
  {
   "cell_type": "code",
   "execution_count": 15,
   "id": "435bf3b8-8c94-4aa9-90bd-1ee5359e0119",
   "metadata": {},
   "outputs": [
    {
     "name": "stdout",
     "output_type": "stream",
     "text": [
      "[0, 2, 4, 6, 8]\n",
      "[0, 2, 4]\n"
     ]
    }
   ],
   "source": [
    "def find_even_num(num):\n",
    "    out_ls = [i for i in range(0,num+1) if i % 2== 0]\n",
    "    print(out_ls)\n",
    "    \n",
    "find_even_num(8)\n",
    "find_even_num(4)"
   ]
  }
 ],
 "metadata": {
  "kernelspec": {
   "display_name": "Python 3 (ipykernel)",
   "language": "python",
   "name": "python3"
  },
  "language_info": {
   "codemirror_mode": {
    "name": "ipython",
    "version": 3
   },
   "file_extension": ".py",
   "mimetype": "text/x-python",
   "name": "python",
   "nbconvert_exporter": "python",
   "pygments_lexer": "ipython3",
   "version": "3.10.6"
  }
 },
 "nbformat": 4,
 "nbformat_minor": 5
}
