{
 "cells": [
  {
   "cell_type": "markdown",
   "id": "8620d9a4-5b3c-46a5-9504-7e3d8682922b",
   "metadata": {},
   "source": [
    "__1. Create a function that takes three integer arguments (a, b, c) and returns the amount of integers which are of equal value.__"
   ]
  },
  {
   "cell_type": "code",
   "execution_count": 4,
   "id": "2bc1eef3-5fb0-4232-8d70-6cac4b8e372b",
   "metadata": {},
   "outputs": [
    {
     "name": "stdout",
     "output_type": "stream",
     "text": [
      "(3, 4, 3) ➞ 2\n"
     ]
    }
   ],
   "source": [
    "def equal(a,b,c):\n",
    "    if a==b==c:\n",
    "        print(f'{a,b,c} ➞ {3}')\n",
    "    elif a==b or b == c or a==c:\n",
    "        print(f'{a,b,c} ➞ {2}')\n",
    "    else:\n",
    "        print(f'{a,b,c} ➞ {0}')\n",
    "        \n",
    "equal(3,4,3)"
   ]
  },
  {
   "cell_type": "markdown",
   "id": "22f53e59-de02-41b6-88c1-43f29aa83ce0",
   "metadata": {},
   "source": [
    "__2. Write a function that converts a dictionary into a list of keys-values tuples.__"
   ]
  },
  {
   "cell_type": "code",
   "execution_count": 10,
   "id": "e0616a26-31df-46ed-b058-70fc31276fd2",
   "metadata": {},
   "outputs": [
    {
     "name": "stdout",
     "output_type": "stream",
     "text": [
      "[('Likes', 20), ('Dislikes', 2), ('Followers', 40)]\n"
     ]
    }
   ],
   "source": [
    "def dict_to_list(D):\n",
    "    ls = list(D.items())\n",
    "    print(ls)\n",
    "\n",
    "dict_to_list({\"Likes\":20,\"Dislikes\":2,\"Followers\":40})"
   ]
  },
  {
   "cell_type": "markdown",
   "id": "44a1f51f-8f8a-4b8a-96dd-d764a3760bc4",
   "metadata": {},
   "source": [
    "__3. Write a function that creates a dictionary with each (key, value) pair being the (lower case,upper case) versions of a letter, respectively.__"
   ]
  },
  {
   "cell_type": "code",
   "execution_count": 12,
   "id": "acafe8b5-b33c-4833-9ff1-9651964c434a",
   "metadata": {},
   "outputs": [
    {
     "name": "stdout",
     "output_type": "stream",
     "text": [
      "{'p': 'P', 'q': 'Q'}\n",
      "{'a': 'A', 'v': 'V', 'y': 'Y', 'z': 'Z'}\n"
     ]
    }
   ],
   "source": [
    "def mapping(lst):\n",
    "    dic={}\n",
    "    for i in lst:\n",
    "        dic[i] = i.upper()\n",
    "    print(dic)\n",
    "\n",
    "mapping(['p','q'])\n",
    "mapping(['a','v','y','z'])"
   ]
  },
  {
   "cell_type": "markdown",
   "id": "3f7f173e-6b32-4a80-9a0f-31daab3f67b5",
   "metadata": {},
   "source": [
    "__4. Write a function, that replaces all vowels in a string with a specified vowel.__"
   ]
  },
  {
   "cell_type": "code",
   "execution_count": 14,
   "id": "eaf09ed4-6431-4f0c-9005-a70c37f595ff",
   "metadata": {},
   "outputs": [
    {
     "name": "stdout",
     "output_type": "stream",
     "text": [
      "upplu und bununu\n",
      "chooso ond cossorolo\n",
      "steffed jelepenees end peppers\n"
     ]
    }
   ],
   "source": [
    "def vow_replace(st,v):\n",
    "    vow=['a','e','i','o','u']\n",
    "    ss=\"\"\n",
    "    for i in st:\n",
    "        if i in vow:\n",
    "            ss +=v\n",
    "        else:\n",
    "            ss+= i\n",
    "    return ss\n",
    "\n",
    "x= vow_replace(\"apple and banana\",\"u\")\n",
    "print(x)\n",
    "\n",
    "y = vow_replace(\"cheese and casserole\",\"o\")\n",
    "print(y)\n",
    "\n",
    "z = vow_replace(\"stuffed jalapenoes and poppers\",\"e\")\n",
    "print(z)"
   ]
  },
  {
   "cell_type": "markdown",
   "id": "e4252469-c37f-4add-bb17-3fe709a22afe",
   "metadata": {},
   "source": [
    "__5. Create a function that takes a string as input and capitalizes a letter if its ASCII code is even and returns its lower case version if its ASCII code is odd.__"
   ]
  },
  {
   "cell_type": "code",
   "execution_count": 17,
   "id": "2804cd36-423b-4dd2-aea7-81ff706cb871",
   "metadata": {},
   "outputs": [
    {
     "name": "stdout",
     "output_type": "stream",
     "text": [
      "THe LiTTLe meRmaiD\n"
     ]
    }
   ],
   "source": [
    "def ascii_capitalize(st):\n",
    "    ss=\"\"\n",
    "    for i in st:\n",
    "        if ord(i) % 2 == 0:\n",
    "            ss+= i.upper()\n",
    "        else:\n",
    "            ss+= i.lower()\n",
    "    return ss\n",
    "\n",
    "x = ascii_capitalize(\"THE LITTLE MERMAID\")\n",
    "print(x)"
   ]
  },
  {
   "cell_type": "code",
   "execution_count": null,
   "id": "07bbc174-dae5-4cd9-a94a-09dca8a1d77e",
   "metadata": {},
   "outputs": [],
   "source": []
  }
 ],
 "metadata": {
  "kernelspec": {
   "display_name": "Python 3 (ipykernel)",
   "language": "python",
   "name": "python3"
  },
  "language_info": {
   "codemirror_mode": {
    "name": "ipython",
    "version": 3
   },
   "file_extension": ".py",
   "mimetype": "text/x-python",
   "name": "python",
   "nbconvert_exporter": "python",
   "pygments_lexer": "ipython3",
   "version": "3.10.6"
  }
 },
 "nbformat": 4,
 "nbformat_minor": 5
}
