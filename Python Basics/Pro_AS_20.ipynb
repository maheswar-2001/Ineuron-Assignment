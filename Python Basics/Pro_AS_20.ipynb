{
 "cells": [
  {
   "cell_type": "markdown",
   "id": "e8650ad5-3127-4109-a3e3-437673cc36e3",
   "metadata": {},
   "source": [
    "__1. Given a list of numbers, create a function which returns the list but with each element's\n",
    "index in the list added to itself. This means you add 0 to the number at index 0, add 1 to the number at index 1, etc...__"
   ]
  },
  {
   "cell_type": "code",
   "execution_count": 1,
   "id": "b9e2742e-30d9-4b45-a752-f91b47c9ef6c",
   "metadata": {},
   "outputs": [
    {
     "name": "stdout",
     "output_type": "stream",
     "text": [
      "[1, 3, 5, 7, 9]\n",
      "[5, 5, 5, 5, 5]\n"
     ]
    }
   ],
   "source": [
    "def add_indexes(in_ls):\n",
    "    out_ls=[]\n",
    "    for i in range(len(in_ls)):\n",
    "        out_ls.append(in_ls[i] + i)\n",
    "    print(out_ls)\n",
    "    \n",
    "add_indexes([1, 2, 3, 4, 5])\n",
    "add_indexes([5, 4, 3, 2, 1]) "
   ]
  },
  {
   "cell_type": "markdown",
   "id": "c722dfda-a9dc-45f3-9826-a699cde50d5e",
   "metadata": {},
   "source": [
    "__2. Create a function that takes the height and radius of a cone as arguments and returns the\n",
    "volume of the cone rounded to the nearest hundredth.__"
   ]
  },
  {
   "cell_type": "code",
   "execution_count": 10,
   "id": "2629795d-36a4-4085-8879-b755f637c3ee",
   "metadata": {},
   "outputs": [
    {
     "name": "stdout",
     "output_type": "stream",
     "text": [
      "12.566370614359172\n",
      "565.4866776461628\n"
     ]
    }
   ],
   "source": [
    "import math\n",
    "def cone_volume(height,radius):\n",
    "    vol = ((math.pi)*pow(radius,2))*(height/3)\n",
    "    return vol\n",
    "\n",
    "print(cone_volume(3,2))\n",
    "print(cone_volume(15,6))"
   ]
  },
  {
   "cell_type": "markdown",
   "id": "f7d850cf-391b-4a9a-b7c1-fc7355f24088",
   "metadata": {},
   "source": [
    "3. This Triangular Number Sequence is generated from a pattern of dots that form a triangle.\n",
    "The first 5 numbers of the sequence, or dots, are:\n",
    "1, 3, 6, 10, 15\n",
    "This means that the first triangle has just one dot, the second one has three dots, the third one\n",
    "has 6 dots and so on.\n",
    "Write a function that gives the number of dots with its corresponding triangle number of the\n",
    "sequence."
   ]
  },
  {
   "cell_type": "code",
   "execution_count": 11,
   "id": "038a72b3-1c66-4f36-8995-5337135d8486",
   "metadata": {},
   "outputs": [
    {
     "name": "stdout",
     "output_type": "stream",
     "text": [
      "Output ➞ 1\n",
      "Output ➞ 21\n",
      "Output ➞ 23220\n"
     ]
    }
   ],
   "source": [
    "def triangle(in_num):\n",
    "    print(f'Output ➞ {int((in_num)*((in_num+1)/2))}')\n",
    "\n",
    "triangle(1)\n",
    "triangle(6)\n",
    "triangle(215)"
   ]
  },
  {
   "cell_type": "markdown",
   "id": "8ab5a5c1-8901-435f-a540-8f70a6bd698c",
   "metadata": {},
   "source": [
    "__4. Create a function that takes a list of numbers between 1 and 10 (excluding one number) and\n",
    "returns the missing number.__"
   ]
  },
  {
   "cell_type": "code",
   "execution_count": 25,
   "id": "99fb4848-41c7-43e2-9899-ce5dc307a42b",
   "metadata": {},
   "outputs": [
    {
     "name": "stdout",
     "output_type": "stream",
     "text": [
      "[1, 2, 3, 4, 6, 7, 8, 9, 10] ➞ 5\n",
      "[7, 2, 3, 6, 5, 9, 1, 4, 8] ➞ 10\n",
      "[10, 5, 1, 2, 4, 6, 8, 3, 9] ➞ 7\n"
     ]
    }
   ],
   "source": [
    "def missing_num(in_list):\n",
    "    for i in range(1,11):\n",
    "        if i not in in_list:\n",
    "            print(f'{in_list} ➞ {i}')\n",
    "\n",
    "missing_num([1, 2, 3, 4, 6, 7, 8, 9, 10])\n",
    "missing_num([7, 2, 3, 6, 5, 9, 1, 4, 8])\n",
    "missing_num([10, 5, 1, 2, 4, 6, 8, 3, 9])\n"
   ]
  }
 ],
 "metadata": {
  "kernelspec": {
   "display_name": "Python 3 (ipykernel)",
   "language": "python",
   "name": "python3"
  },
  "language_info": {
   "codemirror_mode": {
    "name": "ipython",
    "version": 3
   },
   "file_extension": ".py",
   "mimetype": "text/x-python",
   "name": "python",
   "nbconvert_exporter": "python",
   "pygments_lexer": "ipython3",
   "version": "3.10.6"
  }
 },
 "nbformat": 4,
 "nbformat_minor": 5
}
