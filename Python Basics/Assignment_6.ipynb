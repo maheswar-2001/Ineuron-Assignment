{
 "cells": [
  {
   "cell_type": "markdown",
   "id": "10aa5e5d-12d1-4d21-b41b-de401d66c585",
   "metadata": {},
   "source": [
    "__1. What are escape characters, and how do you use them?__\n",
    "\n",
    "Ans: Escape characters are the non-graphic character constant which are represented by the help of escape sequence. An escape sequence is represented by a (\\) followed by one or more characters."
   ]
  },
  {
   "cell_type": "markdown",
   "id": "848bb39d-49b6-4c9f-9455-cf0e69ac76e6",
   "metadata": {},
   "source": [
    "__2. What do the escape characters n and t stand for?__\n",
    "\n",
    "Ans: The escape character n stands for New Line character.\n",
    "    \n",
    "t stands for Horizonal Tab (TAB)"
   ]
  },
  {
   "cell_type": "markdown",
   "id": "da93ca0e-58ad-4356-9be2-648d90c5c3ca",
   "metadata": {},
   "source": [
    "__3. What is the way to include backslash characters in a string?__\n",
    "\n",
    "Ans: To include backslash characters in a string we can use (\\\\) character constants where we want to include backslash\n",
    "\n",
    "Eg: \n",
    "print(\"Hello World \\\\ Ineuron\")\n",
    "\n"
   ]
  },
  {
   "cell_type": "markdown",
   "id": "eba4c03b-2cec-4ad5-a107-cb69ac264c6b",
   "metadata": {},
   "source": [
    "__4. The string \"Howl's Moving Castle\" is a correct value. Why \n",
    "isn't the single quote character in the word Howl's not escaped a problem?__\n",
    "\n",
    "Ans: The strings in python are enclosed either in single, double or triple quote marks. So, as the whole string is enclosed in double quote marks, so the single quote character did not escaped a problem.\n",
    "\n"
   ]
  },
  {
   "cell_type": "markdown",
   "id": "2efe5c29-d8dd-4975-89a9-37cf6aee2a81",
   "metadata": {},
   "source": [
    "__5. How do you write a string of newlines if you \n",
    "don't want to use the n character?__\n",
    "\n",
    "Ans: BY typing the text in triple quotation marks. No backslash needed at the end of the line. Python allows to type multiline text string by enclosing them in triple quotation marks."
   ]
  },
  {
   "cell_type": "markdown",
   "id": "3f3d4fc4-d045-4fdd-bb95-099a8da8b7fe",
   "metadata": {},
   "source": [
    "__6. What are the values of the given expressions?__\n",
    "\n",
    "'Hello, world!'[1] - e\n",
    "\n",
    "'Hello, world!'[0:5] - Hell\n",
    "\n",
    "'Hello, world!'[:5] - Hell\n",
    "\n",
    "'Hello, world!'[3:] - lo, world!\n"
   ]
  },
  {
   "cell_type": "markdown",
   "id": "a5ef09c5-6d87-4149-9a66-2a43b8e7a10e",
   "metadata": {},
   "source": [
    "__7. What are the values of the following expressions?__\n",
    "\n",
    "'Hello'.upper() - HELLO\n",
    "\n",
    "'Hello'.upper().isupper() - True\n",
    "\n",
    "'Hello'.upper().lower() - hello\n",
    "\n"
   ]
  },
  {
   "cell_type": "markdown",
   "id": "0a86e675-51aa-403e-923c-7772c11d2229",
   "metadata": {},
   "source": [
    "__8. What are the values of the following expressions?__\n",
    "\n",
    "'Remember, remember, the fifth of July.'.split() - ['Remember,', 'remember,', 'the' , 'fifth', 'of', 'July.']\n",
    "\n",
    "'-'.join('There can only one.'.split()) - 'There-can-only-one'"
   ]
  },
  {
   "cell_type": "markdown",
   "id": "d39420bc-31ad-46bb-995b-6310a1d1a466",
   "metadata": {},
   "source": [
    "__9. What are the methods for right-justifying, left-justifying, and centering a string?__\n",
    "\n",
    "These functions are :\n",
    "\n",
    "str.ljust(s, width[, fillchar])\n",
    "\n",
    "str.rjust(s, width[, fillchar])\n",
    "\n",
    "str.center(s, width[, fillchar])"
   ]
  },
  {
   "cell_type": "markdown",
   "id": "a65a107e-c710-46f2-bc5c-a0b8b31a06d6",
   "metadata": {},
   "source": [
    "__10. What is the best way to remove whitespaace characters from the start or end?__\n",
    "\n",
    "Ans: The best way to remove the whitespace characters from start and end is to use the strip() which helps in removing the leading and tral"
   ]
  }
 ],
 "metadata": {
  "kernelspec": {
   "display_name": "Python 3 (ipykernel)",
   "language": "python",
   "name": "python3"
  },
  "language_info": {
   "codemirror_mode": {
    "name": "ipython",
    "version": 3
   },
   "file_extension": ".py",
   "mimetype": "text/x-python",
   "name": "python",
   "nbconvert_exporter": "python",
   "pygments_lexer": "ipython3",
   "version": "3.10.6"
  }
 },
 "nbformat": 4,
 "nbformat_minor": 5
}
