{
 "cells": [
  {
   "cell_type": "markdown",
   "id": "0de66e34-fd97-4929-a8fb-8ce572376260",
   "metadata": {},
   "source": [
    "__1. Create a function that takes a list of non-negative integers and strings and return a new list\n",
    "without the strings.__"
   ]
  },
  {
   "cell_type": "code",
   "execution_count": 3,
   "id": "8d2cb419-568e-43f7-a23e-5aab1cbcf741",
   "metadata": {},
   "outputs": [
    {
     "name": "stdout",
     "output_type": "stream",
     "text": [
      "[1, 2]\n",
      "[1, 0, 15]\n"
     ]
    }
   ],
   "source": [
    "def filter_list(ls):\n",
    "    L=[]\n",
    "    for i in ls:\n",
    "        if type(i) == int:\n",
    "            L.append(i)\n",
    "    return L\n",
    "\n",
    "x = filter_list([1,2,'a','b'])\n",
    "print(x)\n",
    "\n",
    "y = filter_list([1,'a','b',0,15])\n",
    "print(y)"
   ]
  },
  {
   "cell_type": "markdown",
   "id": "c3f2a83c-2a87-454a-85d9-e67983f98bee",
   "metadata": {},
   "source": [
    "__2. The \"Reverser\" takes a string as input and returns that string in reverse order, with the\n",
    "opposite case.__"
   ]
  },
  {
   "cell_type": "code",
   "execution_count": 5,
   "id": "7c9c8b07-bdff-418f-a693-7fe6b9a59667",
   "metadata": {},
   "outputs": [
    {
     "name": "stdout",
     "output_type": "stream",
     "text": [
      "DLROw OLLEh\n"
     ]
    }
   ],
   "source": [
    "def Reverser(st):\n",
    "    st= st.swapcase()\n",
    "    print(st[::-1])\n",
    "\n",
    "Reverser(\"Hello World\")\n"
   ]
  },
  {
   "cell_type": "markdown",
   "id": "b4f25437-8948-4751-9d9d-deece1152c38",
   "metadata": {},
   "source": [
    "3. You can assign variables from lists like this:\n",
    "lst = [1, 2, 3, 4, 5, 6]\n",
    "first = lst[0]\n",
    "middle = lst[1:-1]\n",
    "last = lst[-1]\n",
    "With Python 3, you can assign variables from lists in a much more succinct way. Create variables first, middle and last from the given list using destructuring assignment\n"
   ]
  },
  {
   "cell_type": "code",
   "execution_count": 6,
   "id": "37db8ecd-5e77-420a-a885-b8d968e6b0d0",
   "metadata": {},
   "outputs": [
    {
     "name": "stdout",
     "output_type": "stream",
     "text": [
      "1 [2, 3, 4, 5] 6\n"
     ]
    }
   ],
   "source": [
    "def destructuring_list(ls):\n",
    "    a,*mid,b=ls\n",
    "    print(a,mid,b)\n",
    "\n",
    "destructuring_list([1,2,3,4,5,6])\n"
   ]
  },
  {
   "cell_type": "markdown",
   "id": "d34a4eb0-e6c7-4600-865d-e44bcd55cd75",
   "metadata": {},
   "source": [
    "__4. Write a function that moves all elements of one type to the end of the list.__"
   ]
  },
  {
   "cell_type": "code",
   "execution_count": 20,
   "id": "74cd4bc4-c14e-49b9-ae27-64011a5e1a8f",
   "metadata": {},
   "outputs": [
    {
     "name": "stdout",
     "output_type": "stream",
     "text": [
      "['b', 'a', 'a', 'a']\n"
     ]
    }
   ],
   "source": [
    "def move_elements(ls, num):\n",
    "    lst = []\n",
    "    for i in range(len(ls) - 1, -1, -1):\n",
    "        if ls[i] == num:\n",
    "            p = ls.pop(i)\n",
    "            lst.append(p)\n",
    "    ls.extend(lst)\n",
    "    print(ls)\n",
    "\n",
    "move_elements(['a', 'a', 'a', 'b'], 'a')\n",
    "\n",
    "        "
   ]
  },
  {
   "cell_type": "code",
   "execution_count": null,
   "id": "231807a3-7367-4e34-8561-1a52dbd15b5e",
   "metadata": {},
   "outputs": [],
   "source": []
  }
 ],
 "metadata": {
  "kernelspec": {
   "display_name": "Python 3 (ipykernel)",
   "language": "python",
   "name": "python3"
  },
  "language_info": {
   "codemirror_mode": {
    "name": "ipython",
    "version": 3
   },
   "file_extension": ".py",
   "mimetype": "text/x-python",
   "name": "python",
   "nbconvert_exporter": "python",
   "pygments_lexer": "ipython3",
   "version": "3.10.6"
  }
 },
 "nbformat": 4,
 "nbformat_minor": 5
}
