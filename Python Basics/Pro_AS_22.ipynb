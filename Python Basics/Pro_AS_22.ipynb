{
 "cells": [
  {
   "cell_type": "markdown",
   "id": "df2ec885-e257-4af2-aaa6-f4d777515f60",
   "metadata": {},
   "source": [
    "__1. Create a function that takes three parameters where:\n",
    " x is the start of the range (inclusive).\n",
    " y is the end of the range (inclusive).\n",
    " n is the divisor to be checked against.\n",
    "Return an ordered list with numbers in the range that are divisible by the third parameter n.\n",
    "Return an empty list if there are no numbers that are divisible by n.__"
   ]
  },
  {
   "cell_type": "code",
   "execution_count": 7,
   "id": "15c763b7-3e6b-4834-a4f6-081c8262c181",
   "metadata": {},
   "outputs": [
    {
     "name": "stdout",
     "output_type": "stream",
     "text": [
      "[3, 6, 9]\n",
      "[8]\n"
     ]
    }
   ],
   "source": [
    "def list_operation(a,b,c):\n",
    "    out_list=[]\n",
    "    for i in range(a,b+1):\n",
    "        if i % c == 0:\n",
    "            out_list.append(i)\n",
    "    print(out_list)\n",
    "\n",
    "list_operation(1,10,3)\n",
    "list_operation(7,9,2)"
   ]
  },
  {
   "cell_type": "markdown",
   "id": "54ee463f-130e-4cfb-bcdc-69f1e239d6a2",
   "metadata": {},
   "source": [
    "__2. Create a function that takes in two lists and returns True if the second list follows the first list\n",
    "by one element, and False otherwise. In other words, determine if the second list is the first\n",
    "list shifted to the right by 1.__"
   ]
  },
  {
   "cell_type": "code",
   "execution_count": 8,
   "id": "34753d37-a87a-439e-acfd-826b968b5733",
   "metadata": {},
   "outputs": [
    {
     "name": "stdout",
     "output_type": "stream",
     "text": [
      "True\n"
     ]
    }
   ],
   "source": [
    "def simon_says(x,y):\n",
    "    if x[0] == y[1]:\n",
    "        return True\n",
    "    else:\n",
    "        return False\n",
    "\n",
    "x = simon_says([1,2],[2,1])\n",
    "print(x)"
   ]
  },
  {
   "cell_type": "markdown",
   "id": "deb255ae-85b3-4b06-9569-ac2eb3022a0c",
   "metadata": {},
   "source": [
    "__3. A group of friends have decided to start a secret society. The name will be the first letter of\n",
    "each of their names, sorted in alphabetical order.\n",
    "Create a function that takes in a list of names and returns the name of the secret society.__"
   ]
  },
  {
   "cell_type": "code",
   "execution_count": 11,
   "id": "e4a6256b-118b-4bcf-8324-240bde066230",
   "metadata": {},
   "outputs": [
    {
     "name": "stdout",
     "output_type": "stream",
     "text": [
      "AMS\n",
      "CJMPRR\n"
     ]
    }
   ],
   "source": [
    "def society_name(x):\n",
    "    str=\"\"\n",
    "    for i in x:\n",
    "        str += i[0]\n",
    "    str = ''.join(sorted(str))\n",
    "    print(str)\n",
    "\n",
    "society_name([\"Adam\",\"Sahara\",\"Malcom\"])\n",
    "society_name([\"Phoebe\",\"Chandler\",\"Rachel\",\"Ross\",\"Monica\",\"Joey\"])"
   ]
  },
  {
   "cell_type": "markdown",
   "id": "478c3924-b2a8-479f-9a29-409634d420ba",
   "metadata": {},
   "source": [
    "__4. An isogram is a word that has no duplicate letters. Create a function that takes a string and\n",
    "returns either True or False depending on whether or not .__\n",
    "Examples\n",
    "is_isogram(\"Algorism\") ➞ True\n",
    "is_isogram(\"PasSword\") ➞ False\n",
    "__Not case sensitive.__\n",
    "is_isogram(\"Consecutive\") ➞ False"
   ]
  },
  {
   "cell_type": "code",
   "execution_count": 4,
   "id": "fdf38f29-7a8a-4361-b653-1afde43bb042",
   "metadata": {},
   "outputs": [
    {
     "name": "stdout",
     "output_type": "stream",
     "text": [
      "True\n",
      "False\n"
     ]
    }
   ],
   "source": [
    "def is_isogram(st):\n",
    "    st = st.lower()\n",
    "    ls = list(st)\n",
    "    c = 0\n",
    "    for i in ls:\n",
    "        if ls.count(i) > 1:\n",
    "            c = 1\n",
    "    if c == 1:\n",
    "        return False\n",
    "    else:\n",
    "        return True\n",
    "\n",
    "x = is_isogram(\"Algorism\")\n",
    "print(x)\n",
    "\n",
    "y = is_isogram(\"PasSword\")\n",
    "print(y)"
   ]
  },
  {
   "cell_type": "markdown",
   "id": "df37fac4-75f6-4b21-a4b1-e2b0e353ac85",
   "metadata": {},
   "source": [
    "__5. Create a function that takes a string and returns True or False, depending on whether the characters are in order or not.__\n"
   ]
  },
  {
   "cell_type": "code",
   "execution_count": 9,
   "id": "7c074d03-9472-44e8-8b34-1c95a1d0de0d",
   "metadata": {},
   "outputs": [
    {
     "name": "stdout",
     "output_type": "stream",
     "text": [
      "True\n",
      "False\n"
     ]
    }
   ],
   "source": [
    "def is_in_order(str):\n",
    "    c = 0\n",
    "    for i in range(len(str)-1):\n",
    "        if (ord(str[i]))+1 == ord(str[i+1]):\n",
    "            c = 0\n",
    "        else:\n",
    "            c = 1\n",
    "\n",
    "    if c == 0:\n",
    "        return True\n",
    "    else:\n",
    "        return False\n",
    "\n",
    "x = is_in_order(\"abcd\")\n",
    "print(x)\n",
    "\n",
    "y = is_in_order(\"edabit\")\n",
    "print(y)"
   ]
  }
 ],
 "metadata": {
  "kernelspec": {
   "display_name": "Python 3 (ipykernel)",
   "language": "python",
   "name": "python3"
  },
  "language_info": {
   "codemirror_mode": {
    "name": "ipython",
    "version": 3
   },
   "file_extension": ".py",
   "mimetype": "text/x-python",
   "name": "python",
   "nbconvert_exporter": "python",
   "pygments_lexer": "ipython3",
   "version": "3.10.6"
  }
 },
 "nbformat": 4,
 "nbformat_minor": 5
}
