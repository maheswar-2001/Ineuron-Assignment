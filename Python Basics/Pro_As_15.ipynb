{
 "cells": [
  {
   "cell_type": "markdown",
   "id": "2340d085-52fa-4d16-abfb-c8df7d6cbd32",
   "metadata": {},
   "source": [
    "__1.How many seconds are in an hour? Use the interactive interpreter as a calculator and multiply the number of seconds in a minute (60) by the number of minutes in an hour (also 60).__\n"
   ]
  },
  {
   "cell_type": "code",
   "execution_count": 1,
   "id": "cbd324de-27bf-4e94-880e-b98c601d8363",
   "metadata": {},
   "outputs": [
    {
     "name": "stdout",
     "output_type": "stream",
     "text": [
      "3600\n"
     ]
    }
   ],
   "source": [
    "print(60*60)"
   ]
  },
  {
   "cell_type": "markdown",
   "id": "77991397-5743-49ca-8213-fb69c565d556",
   "metadata": {},
   "source": [
    "__2. Assign the result from the previous task (seconds in an hour) to a variable called seconds_per_hour.__"
   ]
  },
  {
   "cell_type": "code",
   "execution_count": 2,
   "id": "0288a233-d70a-44e4-bdde-3908a401af70",
   "metadata": {},
   "outputs": [
    {
     "name": "stdout",
     "output_type": "stream",
     "text": [
      "3600\n"
     ]
    }
   ],
   "source": [
    "seconds_per_hour = 60 * 60\n",
    "print(seconds_per_hour)"
   ]
  },
  {
   "cell_type": "markdown",
   "id": "1dafafd7-17ca-4686-a7b0-52c6377a1894",
   "metadata": {},
   "source": [
    "__3. How many seconds do you think there are in a day? Make use of the variables seconds per hour and minutes per hour.__"
   ]
  },
  {
   "cell_type": "code",
   "execution_count": 3,
   "id": "bac88f6f-985a-4c81-b48c-944b8ac64e75",
   "metadata": {},
   "outputs": [
    {
     "name": "stdout",
     "output_type": "stream",
     "text": [
      "86400\n"
     ]
    }
   ],
   "source": [
    "print(24*60*60)"
   ]
  },
  {
   "cell_type": "markdown",
   "id": "67125ba9-9df6-43df-9cf7-cc8082023f0f",
   "metadata": {},
   "source": [
    "__4. Calculate seconds per day again, but this time save the result in a variable called seconds_per_day__"
   ]
  },
  {
   "cell_type": "code",
   "execution_count": 5,
   "id": "e9098f46-31c5-4b8f-b448-5340d60103f7",
   "metadata": {},
   "outputs": [
    {
     "name": "stdout",
     "output_type": "stream",
     "text": [
      "86400\n"
     ]
    }
   ],
   "source": [
    "seconds_per_day = 24*60*60\n",
    "print(seconds_per_day)"
   ]
  },
  {
   "cell_type": "markdown",
   "id": "203c1087-8f88-47f7-8548-64a69cda73b8",
   "metadata": {},
   "source": [
    "__5. Divide seconds_per_day by seconds_per_hour. Use floating-point (/) division.__"
   ]
  },
  {
   "cell_type": "code",
   "execution_count": 6,
   "id": "fe11fe72-fca7-4985-aaab-058b9ae8fbc6",
   "metadata": {},
   "outputs": [
    {
     "name": "stdout",
     "output_type": "stream",
     "text": [
      "24.0\n"
     ]
    }
   ],
   "source": [
    "print(seconds_per_day / seconds_per_hour)"
   ]
  },
  {
   "cell_type": "markdown",
   "id": "829fe6f7-ad0f-45c2-8018-34827cecc89c",
   "metadata": {},
   "source": [
    "__6. Divide seconds_per_day by seconds_per_hour, using integer (//) division. Did this number agree with the floating-point value from the previous question, aside from the final .0?__"
   ]
  },
  {
   "cell_type": "code",
   "execution_count": 7,
   "id": "89550ba7-f973-4b92-b72c-8a7ed33736ec",
   "metadata": {},
   "outputs": [
    {
     "name": "stdout",
     "output_type": "stream",
     "text": [
      "24\n"
     ]
    }
   ],
   "source": [
    "print(seconds_per_day // seconds_per_hour)\n",
    "#Yes it agrees with the previous question's values"
   ]
  }
 ],
 "metadata": {
  "kernelspec": {
   "display_name": "Python 3 (ipykernel)",
   "language": "python",
   "name": "python3"
  },
  "language_info": {
   "codemirror_mode": {
    "name": "ipython",
    "version": 3
   },
   "file_extension": ".py",
   "mimetype": "text/x-python",
   "name": "python",
   "nbconvert_exporter": "python",
   "pygments_lexer": "ipython3",
   "version": "3.10.6"
  }
 },
 "nbformat": 4,
 "nbformat_minor": 5
}
