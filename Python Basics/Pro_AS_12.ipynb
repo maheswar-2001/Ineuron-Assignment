{
 "cells": [
  {
   "cell_type": "code",
   "execution_count": 1,
   "id": "52da3044-8b71-47da-9cd4-5cb2b7767b5a",
   "metadata": {},
   "outputs": [
    {
     "name": "stdout",
     "output_type": "stream",
     "text": [
      "dict_values(['Rishikesh', 'Badrinath', 'Gangotri', 'Yamunotri', 'Kedarnath', 'Tirupati', 'Kedarnath'])\n",
      "Unique Values: ['Kedarnath', 'Rishikesh', 'Badrinath', 'Tirupati', 'Gangotri', 'Yamunotri']\n"
     ]
    }
   ],
   "source": [
    "#1. Write a Python program to Extract Unique values dictionary values?\n",
    "\n",
    "dic = {1:'Rishikesh',2:'Badrinath',3:'Gangotri',4:'Yamunotri',5:'Kedarnath',6:'Tirupati',7:'Kedarnath'}\n",
    "print(dic.values())\n",
    "print(f'Unique Values: {list(set(dic.values()))}')"
   ]
  },
  {
   "cell_type": "code",
   "execution_count": 2,
   "id": "cc510243-0e19-4630-8608-d94bd0a9eee7",
   "metadata": {},
   "outputs": [
    {
     "name": "stdout",
     "output_type": "stream",
     "text": [
      "Sum of all item of Dictionary 270\n"
     ]
    }
   ],
   "source": [
    "#2. Write a Python program to find the sum of all items in a dictionary?\n",
    "\n",
    "D = {1:20,2:30,3:50,4:70,5:100}\n",
    "print(f'Sum of all item of Dictionary {sum(D.values())}')"
   ]
  },
  {
   "cell_type": "code",
   "execution_count": 5,
   "id": "99a6031a-73f9-40e6-a5c5-3efe10d0f625",
   "metadata": {},
   "outputs": [
    {
     "name": "stdout",
     "output_type": "stream",
     "text": [
      "Merged Dictionary:  {101: 'Ramesh', 102: 'Suresh', 103: 'Modi', 104: 'Sunita', 201: 'Rajesh', 202: 'Kapoor'}\n"
     ]
    }
   ],
   "source": [
    "#3. Write a Python program to Merging two Dictionaries?\n",
    "\n",
    "D1 = {101:\"Ramesh\",102:\"Suresh\",103:\"Anita\",104:\"Sunita\"}\n",
    "D2 = {201:\"Rajesh\",103:\"Modi\",202:\"Kapoor\"}\n",
    "\n",
    "D1.update(D2)\n",
    "print(\"Merged Dictionary: \",D1)\n",
    "\n"
   ]
  },
  {
   "cell_type": "code",
   "execution_count": 7,
   "id": "7e20a37f-968a-45c2-a77c-7721d2773a0e",
   "metadata": {},
   "outputs": [
    {
     "name": "stdout",
     "output_type": "stream",
     "text": [
      "{'Aditya': 98, 'Pratyashka': 100, 'Advika': 99, 'Anshuka': 97}\n"
     ]
    }
   ],
   "source": [
    "#4. Write a Python program to convert key-values list to flat dictionary?\n",
    "\n",
    "lst = [(\"Aditya\",98),(\"Pratyashka\",100),(\"Advika\",99),(\"Anshuka\",97)]\n",
    "\n",
    "D = dict(lst)\n",
    "print(D)\n",
    "                      "
   ]
  },
  {
   "cell_type": "code",
   "execution_count": 9,
   "id": "ea979df5-0c2f-42d7-845b-8bdebd121350",
   "metadata": {},
   "outputs": [
    {
     "name": "stdout",
     "output_type": "stream",
     "text": [
      "e 5\n",
      "a 1\n",
      "b 2\n",
      "c 3\n",
      "d 4\n"
     ]
    }
   ],
   "source": [
    "#5. Write a Python program to insertion at the beginning in OrderedDict?\n",
    "\n",
    "from collections import OrderedDict\n",
    " \n",
    "# Create an ordered dictionary of key-value pairs\n",
    "my_dict = OrderedDict([('a', 1), ('b', 2), ('c', 3)])\n",
    " \n",
    "# Add a new item to the end of the dictionary\n",
    "my_dict['d'] = 4\n",
    " \n",
    "\n",
    "my_dict.update({'e': 5})\n",
    "my_dict.move_to_end('e', last=False)\n",
    " \n",
    "\n",
    "for key, value in my_dict.items():\n",
    "    print(key, value)"
   ]
  },
  {
   "cell_type": "code",
   "execution_count": 10,
   "id": "6bc5dc10-6c09-415a-9539-55dc0f08ee8f",
   "metadata": {},
   "outputs": [
    {
     "name": "stdout",
     "output_type": "stream",
     "text": [
      "{'a': 1000, 'f': 200, 'd': 300, 'c': 400, 'b': 500, 'e': 600}\n",
      "OrderedDict([('a', 1000), ('b', 500), ('c', 400), ('d', 300), ('e', 600), ('f', 200)])\n"
     ]
    }
   ],
   "source": [
    "#6. Write a Python program to check order of character in string using OrderedDict()?\n",
    "from collections import OrderedDict\n",
    "\n",
    "initial_list = {'a': 1000, 'f': 200, 'd': 300, 'c': 400, 'b': 500, 'e': 600}\n",
    "print(initial_list)\n",
    "\n",
    "final_list = OrderedDict(dict(sorted(initial_list.items())))\n",
    "print(final_list)"
   ]
  },
  {
   "cell_type": "code",
   "execution_count": null,
   "id": "f4657474-ccbc-4775-be33-4dd018f43a9b",
   "metadata": {},
   "outputs": [],
   "source": [
    "#7. Write a Python program to sort Python Dictionaries by Key or Value?\n",
    "d_items = {'Mango':100,'PineApple':22,'Banana':60,'Grape':13}\n",
    "\n",
    "def sort_dict(in_dict,sort_type):\n",
    "    if sort_type == 'key':\n",
    "        print(dict(sorted(in_dict.items(), key=lambda x:x[0], reverse=False)))\n",
    "    else:\n",
    "        print(dict(sorted(in_dict.items(), key=lambda x:x[1], reverse=False)))\n",
    "        \n",
    "sort_dict(d_items,'key')        \n",
    "sort_dict(d_items,'value')"
   ]
  }
 ],
 "metadata": {
  "kernelspec": {
   "display_name": "Python 3 (ipykernel)",
   "language": "python",
   "name": "python3"
  },
  "language_info": {
   "codemirror_mode": {
    "name": "ipython",
    "version": 3
   },
   "file_extension": ".py",
   "mimetype": "text/x-python",
   "name": "python",
   "nbconvert_exporter": "python",
   "pygments_lexer": "ipython3",
   "version": "3.10.6"
  }
 },
 "nbformat": 4,
 "nbformat_minor": 5
}
