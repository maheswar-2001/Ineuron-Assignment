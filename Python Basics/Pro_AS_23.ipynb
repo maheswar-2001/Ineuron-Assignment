{
 "cells": [
  {
   "cell_type": "markdown",
   "id": "0ace2b32-d905-4df4-af36-0fb0874753f9",
   "metadata": {},
   "source": [
    "__1. Create a function that takes a number as an argument and returns True or False depending on whether the number is symmetrical or not. A number is symmetrical when it is the same as its reverse.__"
   ]
  },
  {
   "cell_type": "code",
   "execution_count": 6,
   "id": "8bf71a6b-e316-45b4-bff4-2769cacac8ff",
   "metadata": {},
   "outputs": [
    {
     "name": "stdout",
     "output_type": "stream",
     "text": [
      "False\n",
      "True\n"
     ]
    }
   ],
   "source": [
    "def is_symmetrical(num):\n",
    "    s = str(num)\n",
    "    s = s[::-1]\n",
    "    n = int(s)\n",
    "    if num == n:\n",
    "        return True\n",
    "    else:\n",
    "        return False\n",
    "\n",
    "x = is_symmetrical(1743)\n",
    "print(x)\n",
    "\n",
    "y = is_symmetrical(7227)\n",
    "print(y)"
   ]
  },
  {
   "cell_type": "markdown",
   "id": "e212f586-04b8-4090-b434-89b0e6b8a663",
   "metadata": {},
   "source": [
    "__2. Given a string of numbers separated by a comma and space, return the product of the\n",
    "numbers.__"
   ]
  },
  {
   "cell_type": "code",
   "execution_count": 9,
   "id": "af3d94cc-ad38-444c-9235-b4aa50e285ee",
   "metadata": {},
   "outputs": [
    {
     "name": "stdout",
     "output_type": "stream",
     "text": [
      "6\n"
     ]
    }
   ],
   "source": [
    "def multiply_nums(ts):\n",
    "    ts = ts.replace(\" \",'')\n",
    "    ts = ts.split(\",\")\n",
    "    prod=1\n",
    "    \n",
    "    for i in ts:\n",
    "        prod *= int(i)\n",
    "    return prod\n",
    "\n",
    "pr = multiply_nums(\"2, 3\")\n",
    "print(pr)"
   ]
  },
  {
   "cell_type": "markdown",
   "id": "cf918a82-457c-4a54-90d1-2d1cfa94a94f",
   "metadata": {},
   "source": [
    "__3. Create a function that squares every digit of a number.__"
   ]
  },
  {
   "cell_type": "code",
   "execution_count": 12,
   "id": "5e92cf4b-1831-4e03-a90a-99ff575a7a7c",
   "metadata": {},
   "outputs": [
    {
     "name": "stdout",
     "output_type": "stream",
     "text": [
      "811181\n",
      "416649\n"
     ]
    }
   ],
   "source": [
    "def square_digits(num):\n",
    "    s = str(num)\n",
    "    sq=\"\"\n",
    "    for i in s:\n",
    "        l = int(i) * int(i)\n",
    "        sq = sq + str(l)\n",
    "    return int(sq)\n",
    "\n",
    "x = square_digits(9119)\n",
    "print(x)\n",
    "\n",
    "y = square_digits(2483)\n",
    "print(y)"
   ]
  },
  {
   "cell_type": "markdown",
   "id": "40f05975-13b8-43ca-9288-7c93286497fa",
   "metadata": {},
   "source": [
    "__4. Create a function that sorts a list and removes all duplicate items from it.__"
   ]
  },
  {
   "cell_type": "code",
   "execution_count": 13,
   "id": "2ae01d28-33c3-4371-a9a6-291378d4f415",
   "metadata": {},
   "outputs": [
    {
     "name": "stdout",
     "output_type": "stream",
     "text": [
      "[1, 3, 3, 5, 5] ➞ [1, 3, 5]\n",
      "[4, 4, 4, 4] ➞ [4]\n",
      "[5, 7, 8, 9, 10, 15] ➞ [5, 7, 8, 9, 10, 15]\n",
      "[3, 3, 3, 2, 1] ➞ [1, 2, 3]\n"
     ]
    }
   ],
   "source": [
    "def setify(in_list):\n",
    "    out_list = sorted(set(in_list))\n",
    "    print(f'{in_list} ➞ {out_list}')\n",
    "    \n",
    "setify([1, 3, 3, 5, 5]) \n",
    "setify([4, 4, 4, 4])\n",
    "setify([5, 7, 8, 9, 10, 15])\n",
    "setify([3, 3, 3, 2, 1])    "
   ]
  },
  {
   "cell_type": "markdown",
   "id": "8131b4d5-ceb1-435f-8700-b648735dad6f",
   "metadata": {},
   "source": [
    "__5. Create a function that returns the mean of all digits.__"
   ]
  },
  {
   "cell_type": "code",
   "execution_count": 16,
   "id": "999e647a-4bc1-47f4-a147-82aba03ddb6c",
   "metadata": {},
   "outputs": [
    {
     "name": "stdout",
     "output_type": "stream",
     "text": [
      "3\n",
      "3\n"
     ]
    }
   ],
   "source": [
    "def mean(num):\n",
    "    sum = 0\n",
    "    l = len(str(num))\n",
    "    while num>0:\n",
    "        d = num % 10\n",
    "        sum += d\n",
    "        num //= 10\n",
    "    mean_avg = sum // l\n",
    "    return mean_avg\n",
    "\n",
    "x = mean(42)\n",
    "print(x)\n",
    "\n",
    "y = mean(12345)\n",
    "print(y)"
   ]
  },
  {
   "cell_type": "code",
   "execution_count": null,
   "id": "8d48b587-88d5-4876-bb15-8bfae2d6b04d",
   "metadata": {},
   "outputs": [],
   "source": []
  }
 ],
 "metadata": {
  "kernelspec": {
   "display_name": "Python 3 (ipykernel)",
   "language": "python",
   "name": "python3"
  },
  "language_info": {
   "codemirror_mode": {
    "name": "ipython",
    "version": 3
   },
   "file_extension": ".py",
   "mimetype": "text/x-python",
   "name": "python",
   "nbconvert_exporter": "python",
   "pygments_lexer": "ipython3",
   "version": "3.10.6"
  }
 },
 "nbformat": 4,
 "nbformat_minor": 5
}
