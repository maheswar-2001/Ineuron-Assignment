{
 "cells": [
  {
   "cell_type": "code",
   "execution_count": 1,
   "id": "44280c4e-5d93-4f58-a8f1-9d2c92502653",
   "metadata": {},
   "outputs": [
    {
     "name": "stdout",
     "output_type": "stream",
     "text": [
      "Hello Python\n"
     ]
    }
   ],
   "source": [
    "#WAP to print \"Hello Python\"\n",
    "print(\"Hello Python\")"
   ]
  },
  {
   "cell_type": "code",
   "execution_count": 2,
   "id": "e00e555b-db09-4cc4-a79c-6c5f41eb6ebe",
   "metadata": {},
   "outputs": [
    {
     "name": "stdin",
     "output_type": "stream",
     "text": [
      "Enter a number 25\n",
      "Enter 2nd number 5\n"
     ]
    },
    {
     "name": "stdout",
     "output_type": "stream",
     "text": [
      "Addition:  30\n",
      "Division:  5.0\n"
     ]
    }
   ],
   "source": [
    "# Write a Python program to do arithmetical operations addition and division.?\n",
    "a = int(input(\"Enter a number\"))\n",
    "b = int(input(\"Enter 2nd number\"))\n",
    "print(\"Addition: \",a+b)\n",
    "print(\"Division: \",a/b)"
   ]
  },
  {
   "cell_type": "code",
   "execution_count": 4,
   "id": "d3e37f9e-6a1a-4b74-91d0-3f225ba9d732",
   "metadata": {},
   "outputs": [
    {
     "name": "stdin",
     "output_type": "stream",
     "text": [
      "Enter 1st side of the triangle 3\n",
      "Enter 2nd side of the the triangle 4\n",
      "Enter thrid side of the triangle 5\n"
     ]
    },
    {
     "name": "stdout",
     "output_type": "stream",
     "text": [
      "Area of the triangle is:  6.0\n"
     ]
    }
   ],
   "source": [
    "# Write a Python program to find the area of a triangle?\n",
    "import math\n",
    "a = int(input(\"Enter 1st side of the triangle\"))\n",
    "b = int(input(\"Enter 2nd side of the the triangle\"))\n",
    "c = int(input(\"Enter thrid side of the triangle\"))\n",
    "s = (a+b+c)//2\n",
    "ar = math.sqrt(s*(s-a)*(s-b)*(s-c))\n",
    "print(\"Area of the triangle is: \",ar)"
   ]
  },
  {
   "cell_type": "code",
   "execution_count": 7,
   "id": "d84564c3-8612-40d5-b2db-0f1d114d23e8",
   "metadata": {},
   "outputs": [
    {
     "name": "stdin",
     "output_type": "stream",
     "text": [
      "Enter value of a number 15\n",
      "Enter value of b number 85\n"
     ]
    },
    {
     "name": "stdout",
     "output_type": "stream",
     "text": [
      "Value of a is:  85\n",
      "Value of b is:  15\n"
     ]
    }
   ],
   "source": [
    "# Write a Python program to swap two variables?\n",
    "# Method 1\n",
    "a = int(input(\"Enter value of a number\"))\n",
    "b = int(input(\"Enter value of b number\"))\n",
    "a , b = b , a\n",
    "print(\"Value of a is: \",a)\n",
    "print(\"Value of b is: \",b)\n",
    "\n",
    "# Method 2\n",
    "a = int(input(\"Enter value of a number\"))\n",
    "b = int(input(\"Enter value of b number\"))\n",
    "a = a+b\n",
    "b = a-b\n",
    "a = a-b"
   ]
  },
  {
   "cell_type": "code",
   "execution_count": 8,
   "id": "3960d0a0-e8b7-4f9d-a19c-92e1911671bf",
   "metadata": {},
   "outputs": [
    {
     "name": "stdout",
     "output_type": "stream",
     "text": [
      "2\n"
     ]
    }
   ],
   "source": [
    "# Write a Python program to generate a random number?\n",
    "import random\n",
    "print(random.randint(1,10))"
   ]
  }
 ],
 "metadata": {
  "kernelspec": {
   "display_name": "Python 3 (ipykernel)",
   "language": "python",
   "name": "python3"
  },
  "language_info": {
   "codemirror_mode": {
    "name": "ipython",
    "version": 3
   },
   "file_extension": ".py",
   "mimetype": "text/x-python",
   "name": "python",
   "nbconvert_exporter": "python",
   "pygments_lexer": "ipython3",
   "version": "3.10.6"
  }
 },
 "nbformat": 4,
 "nbformat_minor": 5
}
