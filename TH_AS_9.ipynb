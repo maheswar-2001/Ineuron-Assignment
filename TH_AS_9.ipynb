{
 "cells": [
  {
   "cell_type": "markdown",
   "id": "23634beb-504d-42e3-a3d7-f9419491860d",
   "metadata": {},
   "source": [
    "__1. To what does a relative path refer?__\n",
    "\n",
    "Ans: The relative path refers to the path which is relative to the program's working directory."
   ]
  },
  {
   "cell_type": "markdown",
   "id": "3cebab1b-1437-4961-b218-20e1990538ec",
   "metadata": {},
   "source": [
    "__2. What does an absolute path start with your operating system?__\n",
    "\n",
    "Ans: The absolute path starts with the root folder of the Operating System.\n"
   ]
  },
  {
   "cell_type": "markdown",
   "id": "7272abc2-9642-4dc6-9671-7cd69d1d9d9b",
   "metadata": {},
   "source": [
    "__3. What do the functions os.getcwd() and os.chdir() do?__\n",
    "\n",
    "Ans: The __os.getcwd()__ helps to get the current working directory in the form of string.\n",
    "\n",
    "__os.chdir()__ method in Python used to change the current working directory to specified path. It takes only a single argument as new directory path.\n"
   ]
  },
  {
   "cell_type": "markdown",
   "id": "94bb299b-0236-4080-a334-cf0af2b98182",
   "metadata": {},
   "source": [
    "__4. What are the . and .. folders?__\n",
    "\n",
    "Ans: The single period (\"Dot\") for a folder name which is shorthand for \"This Directory\".\n",
    "\n",
    "The double period (\"Dot-Dot\") for the \"Parent Folder\""
   ]
  },
  {
   "cell_type": "markdown",
   "id": "2df3ef1b-5039-41d0-bfbb-427b7d51aeda",
   "metadata": {},
   "source": [
    "__5. In C:\\bacon\\eggs\\spam.txt, which part is the dir name, and which part is the base name?__\n",
    "\n",
    "Ans Here C:\\ is the directory name while the bacon\\eggs\\spam.txt refers to the base name."
   ]
  },
  {
   "cell_type": "markdown",
   "id": "16bbcc00-af18-41bf-a89c-ace424688cb4",
   "metadata": {},
   "source": [
    "__6. What are the three “mode” arguments that can be passed to the open() function?__\n",
    "\n",
    "Ans: The following arguments can be passed to the open():\n",
    "a. r -> It opens the file in read mode only.\n",
    "b. w -> It opens the file in the write mode.\n",
    "c. a -> It opens the file the append mode. "
   ]
  },
  {
   "cell_type": "markdown",
   "id": "a6ecfc8d-1223-4052-877d-46c9801da57f",
   "metadata": {},
   "source": [
    "__7. What happens if an existing file is opened in write mode?__\n",
    "\n",
    "Ans: If an existing file in opened in the write mode then the content of the existing file is deleted/earesed."
   ]
  },
  {
   "cell_type": "markdown",
   "id": "a3d99d84-ee98-47d5-a0b3-2c657a6dd901",
   "metadata": {},
   "source": [
    "__8. How do you tell the difference between read() and readlines()?__\n",
    "\n",
    "Ans: The read() reads at most n bytes from the file.If no n is specified, the reads the entire file and returns in the form of string.\n",
    "\n",
    "The readlines() reads all the lines and return them in a list."
   ]
  },
  {
   "cell_type": "markdown",
   "id": "335c1efa-62a4-45c8-9869-640d34ecded8",
   "metadata": {},
   "source": [
    "__9. What data structure does a shelf value resemble?__]\n",
    "\n",
    "A shelf value resembles a dictionary value; it has keys and values, along with \n",
    "keys() and values()methods that work similarly to the dictionary methods of \n",
    "the same names"
   ]
  },
  {
   "cell_type": "code",
   "execution_count": null,
   "id": "9407bfcb-0f5c-4b8a-b0b3-406e10c151e0",
   "metadata": {},
   "outputs": [],
   "source": []
  }
 ],
 "metadata": {
  "kernelspec": {
   "display_name": "Python 3 (ipykernel)",
   "language": "python",
   "name": "python3"
  },
  "language_info": {
   "codemirror_mode": {
    "name": "ipython",
    "version": 3
   },
   "file_extension": ".py",
   "mimetype": "text/x-python",
   "name": "python",
   "nbconvert_exporter": "python",
   "pygments_lexer": "ipython3",
   "version": "3.10.6"
  }
 },
 "nbformat": 4,
 "nbformat_minor": 5
}
