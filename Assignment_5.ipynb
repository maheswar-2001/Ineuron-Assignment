{
 "cells": [
  {
   "cell_type": "code",
   "execution_count": 7,
   "id": "164aa231-7ba1-43dc-9d0c-7ecc98b8749e",
   "metadata": {},
   "outputs": [
    {
     "name": "stdout",
     "output_type": "stream",
     "text": [
      "HCF is :  6\n"
     ]
    }
   ],
   "source": [
    "# Write a Python Program to Find HCF?\n",
    "\n",
    "def num_hcf(a,b):\n",
    "    for i in range(1,a+1):\n",
    "        if a % i == 0 and b % i == 0:\n",
    "            hcf = i\n",
    "    return hcf\n",
    "\n",
    "x = num_hcf(12,18)\n",
    "print(\"HCF is : \",x)"
   ]
  },
  {
   "cell_type": "code",
   "execution_count": 9,
   "id": "c8f50b18-fd97-4d39-a257-7c30ac5a0db1",
   "metadata": {},
   "outputs": [
    {
     "name": "stdout",
     "output_type": "stream",
     "text": [
      "LCM is :  36\n"
     ]
    }
   ],
   "source": [
    "# Write a Python Program to Find LCM?\n",
    "\n",
    "def num_lcm(a,b):\n",
    "    product = a*b\n",
    "    for i in range(1,a+1):\n",
    "        if a % i == 0 and b % i == 0:\n",
    "            hcf = i\n",
    "    return product//hcf\n",
    "\n",
    "y = num_lcm(12,18)\n",
    "print(\"LCM is : \",y)"
   ]
  },
  {
   "cell_type": "code",
   "execution_count": 18,
   "id": "c477b6f1-1639-44c0-87a7-254e3515adee",
   "metadata": {},
   "outputs": [
    {
     "name": "stdin",
     "output_type": "stream",
     "text": [
      "Enter a decimal number:  33\n"
     ]
    },
    {
     "name": "stdout",
     "output_type": "stream",
     "text": [
      "In Binary Number system:  100001\n",
      "In Octal Number system:  41\n",
      "In Hexadecimal Number system:  21\n"
     ]
    }
   ],
   "source": [
    "# Write a Python Program to Convert Decimal to Binary, Octal and Hexadecimal?\n",
    "#Decimal to binary.\n",
    "decNum = int(input(\"Enter a decimal number: \"))\n",
    "print(\"In Binary Number system: \",bin(decNum)[2:])\n",
    "\n",
    "print(\"In Octal Number system: \",oct(decNum)[2:])\n",
    "\n",
    "print(\"In Hexadecimal Number system: \",hex(decNum)[2:])"
   ]
  },
  {
   "cell_type": "code",
   "execution_count": 19,
   "id": "cd1233ad-1b1a-4fa3-9f86-42d260d661da",
   "metadata": {},
   "outputs": [
    {
     "name": "stdin",
     "output_type": "stream",
     "text": [
      "Enter a character:  Z\n"
     ]
    },
    {
     "name": "stdout",
     "output_type": "stream",
     "text": [
      "ASCII value is : 90\n"
     ]
    }
   ],
   "source": [
    "# Write a Python Program To Find ASCII value of a character?\n",
    "\n",
    "ch = input(\"Enter a character: \")\n",
    "print(\"ASCII value is :\",ord(ch))"
   ]
  },
  {
   "cell_type": "code",
   "execution_count": null,
   "id": "e4c4cdb7-055c-4600-abd1-1d282aa0bf76",
   "metadata": {},
   "outputs": [],
   "source": [
    "# Write a Python Program to Make a Simple Calculator with 4 basic mathematical operations?\n",
    "\n",
    "def operation(a,b,op):\n",
    "    if op == '+':\n",
    "        return a + b\n",
    "    elif op == '-':\n",
    "        retrun a - b\n",
    "    elif op == '*':\n",
    "        return a * b\n",
    "    elif op == '%':\n",
    "        return a % b\n",
    "\n",
    "operation(12,5,'*'\n",
    "    "
   ]
  }
 ],
 "metadata": {
  "kernelspec": {
   "display_name": "Python 3 (ipykernel)",
   "language": "python",
   "name": "python3"
  },
  "language_info": {
   "codemirror_mode": {
    "name": "ipython",
    "version": 3
   },
   "file_extension": ".py",
   "mimetype": "text/x-python",
   "name": "python",
   "nbconvert_exporter": "python",
   "pygments_lexer": "ipython3",
   "version": "3.10.6"
  }
 },
 "nbformat": 4,
 "nbformat_minor": 5
}
