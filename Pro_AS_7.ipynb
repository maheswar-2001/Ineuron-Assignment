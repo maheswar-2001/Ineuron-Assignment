{
 "cells": [
  {
   "cell_type": "code",
   "execution_count": 2,
   "id": "5eb6ad65-c8e3-4039-a591-4b356707d2ab",
   "metadata": {},
   "outputs": [
    {
     "name": "stdin",
     "output_type": "stream",
     "text": [
      "Enter number in the array:  23,45,67\n"
     ]
    },
    {
     "name": "stdout",
     "output_type": "stream",
     "text": [
      "Required sum is:  135\n"
     ]
    }
   ],
   "source": [
    "# 1. Write a Python Program to find sum of array?\n",
    "\n",
    "arr = eval(input(\"Enter number in the array: \"))\n",
    "sum =0\n",
    "for i in arr:\n",
    "    sum = sum + i\n",
    "print(\"Required sum is: \",sum)\n",
    "    "
   ]
  },
  {
   "cell_type": "code",
   "execution_count": 5,
   "id": "cad5df55-5fed-4a91-b17d-3c8eda771565",
   "metadata": {},
   "outputs": [
    {
     "name": "stdin",
     "output_type": "stream",
     "text": [
      "Enter number in the array:  36,97,67,65,43,91\n"
     ]
    },
    {
     "name": "stdout",
     "output_type": "stream",
     "text": [
      "Maximum is:  97\n"
     ]
    }
   ],
   "source": [
    "# 2. Write a Python Program to find largest element in an array?\n",
    "\n",
    "# First Method\n",
    "ar = eval(input(\"Enter number in the array: \"))\n",
    "max = ar[0]\n",
    "for i in ar:\n",
    "    if i>max:\n",
    "        max = i\n",
    "print(\"Maximum is: \",max)\n",
    "\n",
    "\n"
   ]
  },
  {
   "cell_type": "code",
   "execution_count": 7,
   "id": "7e07d6a0-c130-4eac-b957-618b33fa92a4",
   "metadata": {},
   "outputs": [
    {
     "name": "stdin",
     "output_type": "stream",
     "text": [
      "Enter number in the array:  [12,34,65,90,64]\n"
     ]
    },
    {
     "name": "stdout",
     "output_type": "stream",
     "text": [
      "64,90,65,34,12,"
     ]
    }
   ],
   "source": [
    "# 3. Write a Python Program for array rotation?\n",
    "arr1 = eval(input(\"Enter number in the array: \"))\n",
    "l = len(arr1)\n",
    "for i in range(l-1,-1,-1):\n",
    "    print(arr1[i],end=\",\")"
   ]
  },
  {
   "cell_type": "code",
   "execution_count": 15,
   "id": "bde752d8-f912-47ca-826d-deb497643507",
   "metadata": {},
   "outputs": [
    {
     "name": "stdin",
     "output_type": "stream",
     "text": [
      "Enter numbers in the array:  [12,15,17,11,5,7]\n"
     ]
    },
    {
     "name": "stdout",
     "output_type": "stream",
     "text": [
      "[12, 15, 17, 11, 5, 7]\n"
     ]
    }
   ],
   "source": [
    "#4. Write a Python Program to Split the array and add the \n",
    "#first part to the end?\n",
    "\n",
    "arr2 = eval(input(\"Enter numbers in the array: \"))\n",
    "l = len(arr2)\n",
    "y=l//2\n",
    "lst=[]\n",
    "for i in range(0,y):\n",
    "    lst.append(arr2[i])\n",
    "del arr2[0:y]\n",
    "lst.extend(arr2)\n",
    "print(lst)"
   ]
  },
  {
   "cell_type": "code",
   "execution_count": null,
   "id": "440ae130-8f62-45cd-b0d9-22cf974c7d16",
   "metadata": {},
   "outputs": [],
   "source": [
    "#5. Write a Python Program to check if given array is Monotonic?"
   ]
  },
  {
   "cell_type": "code",
   "execution_count": null,
   "id": "dbfc578e-0eea-4277-b3ef-80de66303070",
   "metadata": {},
   "outputs": [],
   "source": []
  }
 ],
 "metadata": {
  "kernelspec": {
   "display_name": "Python 3 (ipykernel)",
   "language": "python",
   "name": "python3"
  },
  "language_info": {
   "codemirror_mode": {
    "name": "ipython",
    "version": 3
   },
   "file_extension": ".py",
   "mimetype": "text/x-python",
   "name": "python",
   "nbconvert_exporter": "python",
   "pygments_lexer": "ipython3",
   "version": "3.10.6"
  }
 },
 "nbformat": 4,
 "nbformat_minor": 5
}
